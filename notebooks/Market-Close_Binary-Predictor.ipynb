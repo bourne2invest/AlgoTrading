{
 "cells": [
  {
   "cell_type": "markdown",
   "metadata": {},
   "source": [
    "# \"Build a model to predict market outcomes\"\n",
    "\n",
    "...\n",
    "\n",
    "# The purpose of this notebook is to build a binary classifier which will predict if the markets (S&P500 as measured by SPY or VOO; Nasdaq100 as measured by QQQ or QQQM) will close 'Green' (an increase, or with a profit from the previous day's close) or 'Red' (a decrease, or at a loss from the previous day's close). \n",
    "\n",
    "#### In principle, such a classifier could likely be applied to any asset or financial security (witholding Options, because that merits its own strategies).\n",
    "\n",
    "## Application: to inform a real-time strategy at the daily timeframe, which can be used to (manually, for now) enter and exit trades appropriately (based on predictions from the model).\n",
    "\n",
    "#### Eventually, we will look at automating these strategies likely with Alpaca's Trade API, as we would like to keep returns from this account separate from my other accounts/holdings. This will also ensure we only fund the account in a disciplined manner to avoid the risk of bankrupting myself. The beauty of this being (1) a strategy which would be used to (almost) passively earn income every single day, and (2) this strategy could be employed regardless of market directions so we could make money during bull- as well as bear-markets (short or long term ones).\n",
    "\n",
    "## Objective: to outperform a DummyClassifier which would simply randomly guess the outcome of the markets on a given day, with equal probability. I.e: we are trying to see if we could do better than a random coin-flip, which is our baseline model to compare with. We would likely also want to compare to so called \"Perma-Bulls\" and \"Perma-Bears\" which are almost always bullish and bearish, respectively. A Naive Perma-Bull and -Bear would *always* bet on markets or a security closing green or red, respectively. An intelligent Perma-Bull and Perma-Bear will usually bet on markets closing green or red, but would take into account current macroeconomic factors and technical factors (e.g: does current RSI indicate markets are overbought?), i.e: intelligent bulls and bears will usually be bullish and bearish but on occasion will be bearish or bullish, both respectively.\n",
    "\n",
    "## Hypothesis: I expect the intelligent perma-bull to perform the best because markets on average tend to move upawards, thus, the perma-bull strategy will reflect reality the best. Following this we may see a tie between the naive perma-bull and naive random guessing. Lastly the intelligent perma-bear and finally the perma-bear will follow in performance. It will be interesting to note whether any of these strategies hold up better or worse historically versus in recent time (i.e: post-COVID markets).\n",
    "\n",
    "## To start we will manage risk of bankruptcy with Kelly's Criterion, which is a statistical strategy to manae a bankroll and its profit. The other noteworthy risk is that this (and most) strategies may break down at scale (when the amount being bet starts to become \"too large\"). Thus, this will just be one feather in a cap of many, and we will look at employing various strategies drawing from many disciplines and points of view (classical ML, Technical Analysis, Stochastic Processes and traditional Quant strategies).\n",
    "\n",
    "### This work is also building off of prior work done roughly in Early 2020."
   ]
  },
  {
   "cell_type": "code",
   "execution_count": 1,
   "metadata": {},
   "outputs": [],
   "source": [
    "import numpy as np\n",
    "import matplotlib.pyplot as plt\n",
    "import pandas as pd\n",
    "import seaborn as sns"
   ]
  },
  {
   "cell_type": "code",
   "execution_count": 2,
   "metadata": {},
   "outputs": [],
   "source": [
    "import sklearn\n",
    "import yfinance as yf"
   ]
  },
  {
   "cell_type": "markdown",
   "metadata": {},
   "source": [
    "## Load Data"
   ]
  },
  {
   "cell_type": "code",
   "execution_count": 3,
   "metadata": {},
   "outputs": [],
   "source": [
    "sp = yf.Ticker('SPY')"
   ]
  },
  {
   "cell_type": "code",
   "execution_count": 4,
   "metadata": {},
   "outputs": [
    {
     "data": {
      "text/html": [
       "<div>\n",
       "<style scoped>\n",
       "    .dataframe tbody tr th:only-of-type {\n",
       "        vertical-align: middle;\n",
       "    }\n",
       "\n",
       "    .dataframe tbody tr th {\n",
       "        vertical-align: top;\n",
       "    }\n",
       "\n",
       "    .dataframe thead th {\n",
       "        text-align: right;\n",
       "    }\n",
       "</style>\n",
       "<table border=\"1\" class=\"dataframe\">\n",
       "  <thead>\n",
       "    <tr style=\"text-align: right;\">\n",
       "      <th></th>\n",
       "      <th>Open</th>\n",
       "      <th>High</th>\n",
       "      <th>Low</th>\n",
       "      <th>Close</th>\n",
       "      <th>Volume</th>\n",
       "      <th>Dividends</th>\n",
       "      <th>Stock Splits</th>\n",
       "    </tr>\n",
       "    <tr>\n",
       "      <th>Date</th>\n",
       "      <th></th>\n",
       "      <th></th>\n",
       "      <th></th>\n",
       "      <th></th>\n",
       "      <th></th>\n",
       "      <th></th>\n",
       "      <th></th>\n",
       "    </tr>\n",
       "  </thead>\n",
       "  <tbody>\n",
       "    <tr>\n",
       "      <th>2021-11-24</th>\n",
       "      <td>466.059998</td>\n",
       "      <td>469.570007</td>\n",
       "      <td>465.190002</td>\n",
       "      <td>469.440002</td>\n",
       "      <td>61858800</td>\n",
       "      <td>0.0</td>\n",
       "      <td>0</td>\n",
       "    </tr>\n",
       "    <tr>\n",
       "      <th>2021-11-26</th>\n",
       "      <td>462.339996</td>\n",
       "      <td>463.899994</td>\n",
       "      <td>457.769989</td>\n",
       "      <td>458.970001</td>\n",
       "      <td>112669600</td>\n",
       "      <td>0.0</td>\n",
       "      <td>0</td>\n",
       "    </tr>\n",
       "    <tr>\n",
       "      <th>2021-11-29</th>\n",
       "      <td>464.070007</td>\n",
       "      <td>466.559998</td>\n",
       "      <td>461.730011</td>\n",
       "      <td>464.600006</td>\n",
       "      <td>86268800</td>\n",
       "      <td>0.0</td>\n",
       "      <td>0</td>\n",
       "    </tr>\n",
       "    <tr>\n",
       "      <th>2021-11-30</th>\n",
       "      <td>462.000000</td>\n",
       "      <td>464.029999</td>\n",
       "      <td>455.299988</td>\n",
       "      <td>455.559998</td>\n",
       "      <td>148559600</td>\n",
       "      <td>0.0</td>\n",
       "      <td>0</td>\n",
       "    </tr>\n",
       "    <tr>\n",
       "      <th>2021-12-01</th>\n",
       "      <td>461.640015</td>\n",
       "      <td>464.670013</td>\n",
       "      <td>450.290009</td>\n",
       "      <td>450.500000</td>\n",
       "      <td>132486146</td>\n",
       "      <td>0.0</td>\n",
       "      <td>0</td>\n",
       "    </tr>\n",
       "  </tbody>\n",
       "</table>\n",
       "</div>"
      ],
      "text/plain": [
       "                  Open        High         Low       Close     Volume  \\\n",
       "Date                                                                    \n",
       "2021-11-24  466.059998  469.570007  465.190002  469.440002   61858800   \n",
       "2021-11-26  462.339996  463.899994  457.769989  458.970001  112669600   \n",
       "2021-11-29  464.070007  466.559998  461.730011  464.600006   86268800   \n",
       "2021-11-30  462.000000  464.029999  455.299988  455.559998  148559600   \n",
       "2021-12-01  461.640015  464.670013  450.290009  450.500000  132486146   \n",
       "\n",
       "            Dividends  Stock Splits  \n",
       "Date                                 \n",
       "2021-11-24        0.0             0  \n",
       "2021-11-26        0.0             0  \n",
       "2021-11-29        0.0             0  \n",
       "2021-11-30        0.0             0  \n",
       "2021-12-01        0.0             0  "
      ]
     },
     "execution_count": 4,
     "metadata": {},
     "output_type": "execute_result"
    }
   ],
   "source": [
    "sp_df = sp.history(period='max')\n",
    "sp_df.tail()"
   ]
  },
  {
   "cell_type": "markdown",
   "metadata": {},
   "source": [
    "# EDA:"
   ]
  },
  {
   "cell_type": "code",
   "execution_count": 5,
   "metadata": {},
   "outputs": [
    {
     "data": {
      "image/png": "[encoded data removed]",
      "text/plain": [
       "<Figure size 432x288 with 1 Axes>"
      ]
     },
     "metadata": {
      "needs_background": "light"
     },
     "output_type": "display_data"
    }
   ],
   "source": [
    "sns.distplot(sp_df.Open, bins=100)\n",
    "plt.xlabel('Value at Market Open')\n",
    "plt.ylabel('Count (Frequency)')\n",
    "plt.title('Fitted Distribution of Market Open Values')\n",
    "plt.grid()\n",
    "plt.show()"
   ]
  },
  {
   "cell_type": "code",
   "execution_count": 6,
   "metadata": {},
   "outputs": [
    {
     "data": {
      "image/png": "[encoded data removed]",
      "text/plain": [
       "<Figure size 432x288 with 1 Axes>"
      ]
     },
     "metadata": {
      "needs_background": "light"
     },
     "output_type": "display_data"
    }
   ],
   "source": [
    "sns.distplot(sp_df.Close, bins=100)\n",
    "plt.xlabel('Value at Market Close')\n",
    "plt.ylabel('Count (Frequency)')\n",
    "plt.title('Fitted Distribution of Market Close Values')\n",
    "plt.grid()\n",
    "plt.show()"
   ]
  },
  {
   "cell_type": "markdown",
   "metadata": {},
   "source": [
    "So if we are going to input market Open's and Close's to our model we should normalize these features to unit mean and variance.\n",
    "\n",
    "## What do peaks in these distributions correspond to? It seems like it would be bear markets, periods of stagnated growth, or heightened volatility, resulting in more time spent in a certain range which will lead to higher frequency of those values in the distribution."
   ]
  },
  {
   "cell_type": "code",
   "execution_count": 7,
   "metadata": {},
   "outputs": [
    {
     "data": {
      "image/png": "[encoded data removed]",
      "text/plain": [
       "<Figure size 432x288 with 1 Axes>"
      ]
     },
     "metadata": {
      "needs_background": "light"
     },
     "output_type": "display_data"
    }
   ],
   "source": [
    "sns.distplot(sp_df.Volume, bins=100)\n",
    "plt.xlabel('Daily Volume')\n",
    "plt.ylabel('Count (Frequency)')\n",
    "plt.title('Fitted Distribution of Daily Volume')\n",
    "plt.grid()\n",
    "plt.show()\n",
    "# TODO? check how to change scale"
   ]
  },
  {
   "cell_type": "markdown",
   "metadata": {},
   "source": [
    "### What do days with 0 Volume correspond to?\n",
    "\n",
    "## First off, it's not 0, check the scale. However, we should check what days with min and max volume correspond to and try and determine why or if it has any significance:"
   ]
  },
  {
   "cell_type": "code",
   "execution_count": 8,
   "metadata": {},
   "outputs": [
    {
     "data": {
      "text/plain": [
       "(5200, 871026300)"
      ]
     },
     "execution_count": 8,
     "metadata": {},
     "output_type": "execute_result"
    }
   ],
   "source": [
    "sp_df.Volume.min(), sp_df.Volume.max()"
   ]
  },
  {
   "cell_type": "code",
   "execution_count": 9,
   "metadata": {},
   "outputs": [
    {
     "name": "stdout",
     "output_type": "stream",
     "text": [
      "1993-01-29 00:00:00 [1003200  480500  201300  529400  531500] 197850.0 238540.53093761657\n"
     ]
    },
    {
     "data": {
      "text/html": [
       "<div>\n",
       "<style scoped>\n",
       "    .dataframe tbody tr th:only-of-type {\n",
       "        vertical-align: middle;\n",
       "    }\n",
       "\n",
       "    .dataframe tbody tr th {\n",
       "        vertical-align: top;\n",
       "    }\n",
       "\n",
       "    .dataframe thead th {\n",
       "        text-align: right;\n",
       "    }\n",
       "</style>\n",
       "<table border=\"1\" class=\"dataframe\">\n",
       "  <thead>\n",
       "    <tr style=\"text-align: right;\">\n",
       "      <th></th>\n",
       "      <th>Open</th>\n",
       "      <th>High</th>\n",
       "      <th>Low</th>\n",
       "      <th>Close</th>\n",
       "      <th>Volume</th>\n",
       "      <th>Dividends</th>\n",
       "      <th>Stock Splits</th>\n",
       "    </tr>\n",
       "    <tr>\n",
       "      <th>Date</th>\n",
       "      <th></th>\n",
       "      <th></th>\n",
       "      <th></th>\n",
       "      <th></th>\n",
       "      <th></th>\n",
       "      <th></th>\n",
       "      <th></th>\n",
       "    </tr>\n",
       "  </thead>\n",
       "  <tbody>\n",
       "    <tr>\n",
       "      <th>1994-09-30</th>\n",
       "      <td>28.247282</td>\n",
       "      <td>28.380974</td>\n",
       "      <td>28.218634</td>\n",
       "      <td>28.218634</td>\n",
       "      <td>5200</td>\n",
       "      <td>0.0</td>\n",
       "      <td>0</td>\n",
       "    </tr>\n",
       "  </tbody>\n",
       "</table>\n",
       "</div>"
      ],
      "text/plain": [
       "                 Open       High        Low      Close  Volume  Dividends  \\\n",
       "Date                                                                        \n",
       "1994-09-30  28.247282  28.380974  28.218634  28.218634    5200        0.0   \n",
       "\n",
       "            Stock Splits  \n",
       "Date                      \n",
       "1994-09-30             0  "
      ]
     },
     "execution_count": 9,
     "metadata": {},
     "output_type": "execute_result"
    }
   ],
   "source": [
    "print(\n",
    "    sp_df.index.unique('Date').min(), \n",
    "    sp_df.head(5).Volume.values,\n",
    "    np.median(sp_df.head(30).Volume.values),\n",
    "    np.std(sp_df.head(30).Volume.values)\n",
    ")\n",
    "\n",
    "sp_df[sp_df.Volume == sp_df.Volume.min()]"
   ]
  },
  {
   "cell_type": "code",
   "execution_count": 10,
   "metadata": {},
   "outputs": [
    {
     "data": {
      "text/plain": [
       "436390.5309376166"
      ]
     },
     "execution_count": 10,
     "metadata": {},
     "output_type": "execute_result"
    }
   ],
   "source": [
    "np.median(sp_df.head(30).Volume.values) - np.std(sp_df.head(30).Volume.values), \n",
    "# we can't have negative volume or shares traded as suggested by the above...\n",
    "np.median(sp_df.head(30).Volume.values) + np.std(sp_df.head(30).Volume.values)"
   ]
  },
  {
   "cell_type": "markdown",
   "metadata": {},
   "source": [
    "### A little research shows the low volume could be related to the 1994 bond market crisis: https://en.wikipedia.org/wiki/1994_bond_market_crisis\n",
    "\n",
    "### However, this could be coincidental, characteristic, or an artefact of this dataset given that the date starts in 01/1993, so naturally this implies a lower volume to start: Digging in a little further, we can see above that the median $\\pm$ std_dev (197,850 $\\pm$ 238,540 or [0, 436,390] shares traded) Volume in the first 30 days of the data (1993-01-29 - 1993-02-28), is still significantly higher than the lowest recorded Volume 1.5 years later on 1994-09-30 which was 5,200 shares traded. This leads me to believe that the lowest-Volume-day must have some significance and is not by chance or is characteristic of the data at that time."
   ]
  },
  {
   "cell_type": "code",
   "execution_count": 11,
   "metadata": {},
   "outputs": [
    {
     "data": {
      "text/html": [
       "<div>\n",
       "<style scoped>\n",
       "    .dataframe tbody tr th:only-of-type {\n",
       "        vertical-align: middle;\n",
       "    }\n",
       "\n",
       "    .dataframe tbody tr th {\n",
       "        vertical-align: top;\n",
       "    }\n",
       "\n",
       "    .dataframe thead th {\n",
       "        text-align: right;\n",
       "    }\n",
       "</style>\n",
       "<table border=\"1\" class=\"dataframe\">\n",
       "  <thead>\n",
       "    <tr style=\"text-align: right;\">\n",
       "      <th></th>\n",
       "      <th>Open</th>\n",
       "      <th>High</th>\n",
       "      <th>Low</th>\n",
       "      <th>Close</th>\n",
       "      <th>Volume</th>\n",
       "      <th>Dividends</th>\n",
       "      <th>Stock Splits</th>\n",
       "    </tr>\n",
       "    <tr>\n",
       "      <th>Date</th>\n",
       "      <th></th>\n",
       "      <th></th>\n",
       "      <th></th>\n",
       "      <th></th>\n",
       "      <th></th>\n",
       "      <th></th>\n",
       "      <th></th>\n",
       "    </tr>\n",
       "  </thead>\n",
       "  <tbody>\n",
       "    <tr>\n",
       "      <th>2008-10-10</th>\n",
       "      <td>66.95065</td>\n",
       "      <td>72.491287</td>\n",
       "      <td>64.496719</td>\n",
       "      <td>68.293365</td>\n",
       "      <td>871026300</td>\n",
       "      <td>0.0</td>\n",
       "      <td>0</td>\n",
       "    </tr>\n",
       "  </tbody>\n",
       "</table>\n",
       "</div>"
      ],
      "text/plain": [
       "                Open       High        Low      Close     Volume  Dividends  \\\n",
       "Date                                                                          \n",
       "2008-10-10  66.95065  72.491287  64.496719  68.293365  871026300        0.0   \n",
       "\n",
       "            Stock Splits  \n",
       "Date                      \n",
       "2008-10-10             0  "
      ]
     },
     "execution_count": 11,
     "metadata": {},
     "output_type": "execute_result"
    }
   ],
   "source": [
    "sp_df[sp_df.Volume == sp_df.Volume.max()]"
   ]
  },
  {
   "cell_type": "markdown",
   "metadata": {},
   "source": [
    "Max volume could likel be the turn-around of the 2008 crash. TODO: investigate further later, as research from this can inform other trading strategies or general investment intelligence"
   ]
  },
  {
   "cell_type": "code",
   "execution_count": 12,
   "metadata": {},
   "outputs": [
    {
     "data": {
      "text/plain": [
       "(25.40643272372537, 25.40641975402832)"
      ]
     },
     "execution_count": 12,
     "metadata": {},
     "output_type": "execute_result"
    }
   ],
   "source": [
    "sp_df.Open.min(), sp_df.Close.min()"
   ]
  },
  {
   "cell_type": "code",
   "execution_count": 13,
   "metadata": {},
   "outputs": [
    {
     "data": {
      "text/plain": [
       "(470.8900146484375, 469.7300109863281)"
      ]
     },
     "execution_count": 13,
     "metadata": {},
     "output_type": "execute_result"
    }
   ],
   "source": [
    "sp_df.Open.max(), sp_df.Close.max()"
   ]
  },
  {
   "cell_type": "markdown",
   "metadata": {},
   "source": [
    "### I can tell you from experience that looking into min Open's and Closes's as well as max Open's and Close's is going to be less interesting. All it will reflect is roughly the start and end of the data (markets go up over time, on average--at least historically this is the case)."
   ]
  },
  {
   "cell_type": "markdown",
   "metadata": {},
   "source": [
    "# Preprocessing"
   ]
  },
  {
   "cell_type": "code",
   "execution_count": 14,
   "metadata": {},
   "outputs": [
    {
     "name": "stdout",
     "output_type": "stream",
     "text": [
      "[0]\n"
     ]
    },
    {
     "data": {
      "text/plain": [
       "array([0.   , 0.213, 0.318, 0.286, 0.317, 0.271, 0.305, 0.288, 0.363,\n",
       "       0.268, 0.316, 0.312, 0.382, 0.285, 0.351, 0.352, 0.367, 0.299,\n",
       "       0.35 , 0.348, 0.38 , 0.313, 0.359, 0.392, 0.32 , 0.405, 0.372,\n",
       "       0.371, 0.375, 0.411, 0.346, 0.369, 0.393, 0.331, 0.353, 0.378,\n",
       "       0.436, 0.354, 0.36 , 0.4  , 0.516, 0.395, 0.414, 0.469, 0.568,\n",
       "       0.467, 0.488, 0.522, 0.672, 0.519, 0.555, 0.579, 0.793, 0.551,\n",
       "       0.656, 0.719, 0.775, 0.642, 0.669, 0.691, 0.561, 0.518, 0.508,\n",
       "       0.59 , 0.48 , 0.531, 0.602, 0.653, 0.553, 0.628, 0.625, 0.77 ,\n",
       "       0.614, 0.688, 0.779, 1.022, 0.694, 0.839, 0.838, 0.98 , 0.825,\n",
       "       0.937, 0.939, 1.135, 0.931, 1.03 , 1.033, 1.212, 1.05 , 1.078,\n",
       "       1.082, 1.329, 1.183, 1.235, 1.351, 1.097, 1.246, 1.323, 1.435,\n",
       "       1.233, 1.432, 1.384, 1.57 , 1.406, 1.366, 1.339, 1.58 , 1.278,\n",
       "       1.376, 1.428])"
      ]
     },
     "execution_count": 14,
     "metadata": {},
     "output_type": "execute_result"
    }
   ],
   "source": [
    "print(sp_df['Stock Splits'].unique())\n",
    "sp_df.Dividends.unique()"
   ]
  },
  {
   "cell_type": "markdown",
   "metadata": {},
   "source": [
    "We don't really care about Stock Splits or Dividends, so we can just drop these."
   ]
  },
  {
   "cell_type": "code",
   "execution_count": 15,
   "metadata": {},
   "outputs": [],
   "source": [
    "def preprocess(sp_df):\n",
    "    \"\"\"\n",
    "    Preprocess Data for Feature Engineering and Model Input\n",
    "\n",
    "    Inputs:\n",
    "    Returns:\n",
    "    \"\"\"\n",
    "    df = sp_df.copy()\n",
    "\n",
    "    df_clean = df.drop(columns=['Stock Splits','Dividends'])\n",
    "    return df_clean"
   ]
  },
  {
   "cell_type": "code",
   "execution_count": 16,
   "metadata": {},
   "outputs": [
    {
     "name": "stdout",
     "output_type": "stream",
     "text": [
      "                Open      High        Low      Close   Volume  Dividends  \\\n",
      "Date                                                                       \n",
      "1993-01-29  25.73566  25.73566  25.607622  25.717369  1003200        0.0   \n",
      "\n",
      "            Stock Splits  \n",
      "Date                      \n",
      "1993-01-29             0  \n"
     ]
    },
    {
     "data": {
      "text/html": [
       "<div>\n",
       "<style scoped>\n",
       "    .dataframe tbody tr th:only-of-type {\n",
       "        vertical-align: middle;\n",
       "    }\n",
       "\n",
       "    .dataframe tbody tr th {\n",
       "        vertical-align: top;\n",
       "    }\n",
       "\n",
       "    .dataframe thead th {\n",
       "        text-align: right;\n",
       "    }\n",
       "</style>\n",
       "<table border=\"1\" class=\"dataframe\">\n",
       "  <thead>\n",
       "    <tr style=\"text-align: right;\">\n",
       "      <th></th>\n",
       "      <th>Open</th>\n",
       "      <th>High</th>\n",
       "      <th>Low</th>\n",
       "      <th>Close</th>\n",
       "      <th>Volume</th>\n",
       "    </tr>\n",
       "    <tr>\n",
       "      <th>Date</th>\n",
       "      <th></th>\n",
       "      <th></th>\n",
       "      <th></th>\n",
       "      <th></th>\n",
       "      <th></th>\n",
       "    </tr>\n",
       "  </thead>\n",
       "  <tbody>\n",
       "    <tr>\n",
       "      <th>1993-01-29</th>\n",
       "      <td>25.73566</td>\n",
       "      <td>25.73566</td>\n",
       "      <td>25.607622</td>\n",
       "      <td>25.717369</td>\n",
       "      <td>1003200</td>\n",
       "    </tr>\n",
       "  </tbody>\n",
       "</table>\n",
       "</div>"
      ],
      "text/plain": [
       "                Open      High        Low      Close   Volume\n",
       "Date                                                         \n",
       "1993-01-29  25.73566  25.73566  25.607622  25.717369  1003200"
      ]
     },
     "execution_count": 16,
     "metadata": {},
     "output_type": "execute_result"
    }
   ],
   "source": [
    "print(sp_df.head(1))\n",
    "sp_df = preprocess(sp_df)\n",
    "sp_df.head(1)"
   ]
  },
  {
   "cell_type": "markdown",
   "metadata": {},
   "source": [
    "# Feature Engineering:"
   ]
  },
  {
   "cell_type": "code",
   "execution_count": 17,
   "metadata": {},
   "outputs": [
    {
     "data": {
      "text/html": [
       "<div>\n",
       "<style scoped>\n",
       "    .dataframe tbody tr th:only-of-type {\n",
       "        vertical-align: middle;\n",
       "    }\n",
       "\n",
       "    .dataframe tbody tr th {\n",
       "        vertical-align: top;\n",
       "    }\n",
       "\n",
       "    .dataframe thead th {\n",
       "        text-align: right;\n",
       "    }\n",
       "</style>\n",
       "<table border=\"1\" class=\"dataframe\">\n",
       "  <thead>\n",
       "    <tr style=\"text-align: right;\">\n",
       "      <th></th>\n",
       "      <th>Open</th>\n",
       "      <th>High</th>\n",
       "      <th>Low</th>\n",
       "      <th>Close</th>\n",
       "      <th>Volume</th>\n",
       "      <th>day_change</th>\n",
       "    </tr>\n",
       "    <tr>\n",
       "      <th>Date</th>\n",
       "      <th></th>\n",
       "      <th></th>\n",
       "      <th></th>\n",
       "      <th></th>\n",
       "      <th></th>\n",
       "      <th></th>\n",
       "    </tr>\n",
       "  </thead>\n",
       "  <tbody>\n",
       "    <tr>\n",
       "      <th>1993-01-29</th>\n",
       "      <td>25.735660</td>\n",
       "      <td>25.735660</td>\n",
       "      <td>25.607622</td>\n",
       "      <td>25.717369</td>\n",
       "      <td>1003200</td>\n",
       "      <td>-0.018291</td>\n",
       "    </tr>\n",
       "    <tr>\n",
       "      <th>1993-02-01</th>\n",
       "      <td>25.735667</td>\n",
       "      <td>25.900288</td>\n",
       "      <td>25.735667</td>\n",
       "      <td>25.900288</td>\n",
       "      <td>480500</td>\n",
       "      <td>0.164620</td>\n",
       "    </tr>\n",
       "    <tr>\n",
       "      <th>1993-02-02</th>\n",
       "      <td>25.881988</td>\n",
       "      <td>25.973444</td>\n",
       "      <td>25.827114</td>\n",
       "      <td>25.955153</td>\n",
       "      <td>201300</td>\n",
       "      <td>0.073165</td>\n",
       "    </tr>\n",
       "    <tr>\n",
       "      <th>1993-02-03</th>\n",
       "      <td>25.991749</td>\n",
       "      <td>26.247825</td>\n",
       "      <td>25.973458</td>\n",
       "      <td>26.229534</td>\n",
       "      <td>529400</td>\n",
       "      <td>0.237785</td>\n",
       "    </tr>\n",
       "    <tr>\n",
       "      <th>1993-02-04</th>\n",
       "      <td>26.320984</td>\n",
       "      <td>26.394149</td>\n",
       "      <td>26.028326</td>\n",
       "      <td>26.339275</td>\n",
       "      <td>531500</td>\n",
       "      <td>0.018291</td>\n",
       "    </tr>\n",
       "  </tbody>\n",
       "</table>\n",
       "</div>"
      ],
      "text/plain": [
       "                 Open       High        Low      Close   Volume  day_change\n",
       "Date                                                                       \n",
       "1993-01-29  25.735660  25.735660  25.607622  25.717369  1003200   -0.018291\n",
       "1993-02-01  25.735667  25.900288  25.735667  25.900288   480500    0.164620\n",
       "1993-02-02  25.881988  25.973444  25.827114  25.955153   201300    0.073165\n",
       "1993-02-03  25.991749  26.247825  25.973458  26.229534   529400    0.237785\n",
       "1993-02-04  26.320984  26.394149  26.028326  26.339275   531500    0.018291"
      ]
     },
     "execution_count": 17,
     "metadata": {},
     "output_type": "execute_result"
    }
   ],
   "source": [
    "sp_df['day_change'] = sp_df.Close - sp_df.Open\n",
    "sp_df.head()"
   ]
  },
  {
   "cell_type": "code",
   "execution_count": 18,
   "metadata": {},
   "outputs": [
    {
     "data": {
      "text/html": [
       "<div>\n",
       "<style scoped>\n",
       "    .dataframe tbody tr th:only-of-type {\n",
       "        vertical-align: middle;\n",
       "    }\n",
       "\n",
       "    .dataframe tbody tr th {\n",
       "        vertical-align: top;\n",
       "    }\n",
       "\n",
       "    .dataframe thead th {\n",
       "        text-align: right;\n",
       "    }\n",
       "</style>\n",
       "<table border=\"1\" class=\"dataframe\">\n",
       "  <thead>\n",
       "    <tr style=\"text-align: right;\">\n",
       "      <th></th>\n",
       "      <th>Open</th>\n",
       "      <th>High</th>\n",
       "      <th>Low</th>\n",
       "      <th>Close</th>\n",
       "      <th>Volume</th>\n",
       "      <th>day_change</th>\n",
       "      <th>close_label</th>\n",
       "    </tr>\n",
       "    <tr>\n",
       "      <th>Date</th>\n",
       "      <th></th>\n",
       "      <th></th>\n",
       "      <th></th>\n",
       "      <th></th>\n",
       "      <th></th>\n",
       "      <th></th>\n",
       "      <th></th>\n",
       "    </tr>\n",
       "  </thead>\n",
       "  <tbody>\n",
       "    <tr>\n",
       "      <th>2021-11-24</th>\n",
       "      <td>466.059998</td>\n",
       "      <td>469.570007</td>\n",
       "      <td>465.190002</td>\n",
       "      <td>469.440002</td>\n",
       "      <td>61858800</td>\n",
       "      <td>3.380005</td>\n",
       "      <td>1</td>\n",
       "    </tr>\n",
       "    <tr>\n",
       "      <th>2021-11-26</th>\n",
       "      <td>462.339996</td>\n",
       "      <td>463.899994</td>\n",
       "      <td>457.769989</td>\n",
       "      <td>458.970001</td>\n",
       "      <td>112669600</td>\n",
       "      <td>-3.369995</td>\n",
       "      <td>0</td>\n",
       "    </tr>\n",
       "    <tr>\n",
       "      <th>2021-11-29</th>\n",
       "      <td>464.070007</td>\n",
       "      <td>466.559998</td>\n",
       "      <td>461.730011</td>\n",
       "      <td>464.600006</td>\n",
       "      <td>86268800</td>\n",
       "      <td>0.529999</td>\n",
       "      <td>1</td>\n",
       "    </tr>\n",
       "    <tr>\n",
       "      <th>2021-11-30</th>\n",
       "      <td>462.000000</td>\n",
       "      <td>464.029999</td>\n",
       "      <td>455.299988</td>\n",
       "      <td>455.559998</td>\n",
       "      <td>148559600</td>\n",
       "      <td>-6.440002</td>\n",
       "      <td>0</td>\n",
       "    </tr>\n",
       "    <tr>\n",
       "      <th>2021-12-01</th>\n",
       "      <td>461.640015</td>\n",
       "      <td>464.670013</td>\n",
       "      <td>450.290009</td>\n",
       "      <td>450.500000</td>\n",
       "      <td>132486146</td>\n",
       "      <td>-11.140015</td>\n",
       "      <td>0</td>\n",
       "    </tr>\n",
       "  </tbody>\n",
       "</table>\n",
       "</div>"
      ],
      "text/plain": [
       "                  Open        High         Low       Close     Volume  \\\n",
       "Date                                                                    \n",
       "2021-11-24  466.059998  469.570007  465.190002  469.440002   61858800   \n",
       "2021-11-26  462.339996  463.899994  457.769989  458.970001  112669600   \n",
       "2021-11-29  464.070007  466.559998  461.730011  464.600006   86268800   \n",
       "2021-11-30  462.000000  464.029999  455.299988  455.559998  148559600   \n",
       "2021-12-01  461.640015  464.670013  450.290009  450.500000  132486146   \n",
       "\n",
       "            day_change  close_label  \n",
       "Date                                 \n",
       "2021-11-24    3.380005            1  \n",
       "2021-11-26   -3.369995            0  \n",
       "2021-11-29    0.529999            1  \n",
       "2021-11-30   -6.440002            0  \n",
       "2021-12-01  -11.140015            0  "
      ]
     },
     "execution_count": 18,
     "metadata": {},
     "output_type": "execute_result"
    }
   ],
   "source": [
    "sp_df['close_label'] = sp_df.day_change.apply(lambda x: 1 if x > 0 else 0) # 'Green' == 1\n",
    "sp_df.tail()"
   ]
  },
  {
   "cell_type": "markdown",
   "metadata": {},
   "source": [
    "### close_label is our target. Given a sequence of days x1,...,xN we want to predict close_label on day xN+1."
   ]
  },
  {
   "cell_type": "code",
   "execution_count": 19,
   "metadata": {},
   "outputs": [
    {
     "data": {
      "image/png": "[encoded data removed]",
      "text/plain": [
       "<Figure size 432x288 with 1 Axes>"
      ]
     },
     "metadata": {
      "needs_background": "light"
     },
     "output_type": "display_data"
    }
   ],
   "source": [
    "sp_df.close_label[-365:-1].plot()\n",
    "plt.show()"
   ]
  },
  {
   "cell_type": "markdown",
   "metadata": {},
   "source": [
    "We can see periods of low volatility in our target variable may preclude or follow periods of high volatility. This is a hypothesis which we should test. Ideally, this is something our model would infer if true, but I would also like to know this for general knowledge."
   ]
  },
  {
   "cell_type": "code",
   "execution_count": 20,
   "metadata": {},
   "outputs": [
    {
     "data": {
      "text/html": [
       "<div>\n",
       "<style scoped>\n",
       "    .dataframe tbody tr th:only-of-type {\n",
       "        vertical-align: middle;\n",
       "    }\n",
       "\n",
       "    .dataframe tbody tr th {\n",
       "        vertical-align: top;\n",
       "    }\n",
       "\n",
       "    .dataframe thead th {\n",
       "        text-align: right;\n",
       "    }\n",
       "</style>\n",
       "<table border=\"1\" class=\"dataframe\">\n",
       "  <thead>\n",
       "    <tr style=\"text-align: right;\">\n",
       "      <th></th>\n",
       "      <th>Open</th>\n",
       "      <th>High</th>\n",
       "      <th>Low</th>\n",
       "      <th>Close</th>\n",
       "      <th>Volume</th>\n",
       "      <th>day_change</th>\n",
       "      <th>close_label</th>\n",
       "      <th>max_magnitude_change</th>\n",
       "    </tr>\n",
       "    <tr>\n",
       "      <th>Date</th>\n",
       "      <th></th>\n",
       "      <th></th>\n",
       "      <th></th>\n",
       "      <th></th>\n",
       "      <th></th>\n",
       "      <th></th>\n",
       "      <th></th>\n",
       "      <th></th>\n",
       "    </tr>\n",
       "  </thead>\n",
       "  <tbody>\n",
       "    <tr>\n",
       "      <th>1993-01-29</th>\n",
       "      <td>25.735660</td>\n",
       "      <td>25.735660</td>\n",
       "      <td>25.607622</td>\n",
       "      <td>25.717369</td>\n",
       "      <td>1003200</td>\n",
       "      <td>-0.018291</td>\n",
       "      <td>0</td>\n",
       "      <td>0.128038</td>\n",
       "    </tr>\n",
       "    <tr>\n",
       "      <th>1993-02-01</th>\n",
       "      <td>25.735667</td>\n",
       "      <td>25.900288</td>\n",
       "      <td>25.735667</td>\n",
       "      <td>25.900288</td>\n",
       "      <td>480500</td>\n",
       "      <td>0.164620</td>\n",
       "      <td>1</td>\n",
       "      <td>0.164620</td>\n",
       "    </tr>\n",
       "    <tr>\n",
       "      <th>1993-02-02</th>\n",
       "      <td>25.881988</td>\n",
       "      <td>25.973444</td>\n",
       "      <td>25.827114</td>\n",
       "      <td>25.955153</td>\n",
       "      <td>201300</td>\n",
       "      <td>0.073165</td>\n",
       "      <td>1</td>\n",
       "      <td>0.146329</td>\n",
       "    </tr>\n",
       "    <tr>\n",
       "      <th>1993-02-03</th>\n",
       "      <td>25.991749</td>\n",
       "      <td>26.247825</td>\n",
       "      <td>25.973458</td>\n",
       "      <td>26.229534</td>\n",
       "      <td>529400</td>\n",
       "      <td>0.237785</td>\n",
       "      <td>1</td>\n",
       "      <td>0.274368</td>\n",
       "    </tr>\n",
       "    <tr>\n",
       "      <th>1993-02-04</th>\n",
       "      <td>26.320984</td>\n",
       "      <td>26.394149</td>\n",
       "      <td>26.028326</td>\n",
       "      <td>26.339275</td>\n",
       "      <td>531500</td>\n",
       "      <td>0.018291</td>\n",
       "      <td>1</td>\n",
       "      <td>0.365823</td>\n",
       "    </tr>\n",
       "  </tbody>\n",
       "</table>\n",
       "</div>"
      ],
      "text/plain": [
       "                 Open       High        Low      Close   Volume  day_change  \\\n",
       "Date                                                                          \n",
       "1993-01-29  25.735660  25.735660  25.607622  25.717369  1003200   -0.018291   \n",
       "1993-02-01  25.735667  25.900288  25.735667  25.900288   480500    0.164620   \n",
       "1993-02-02  25.881988  25.973444  25.827114  25.955153   201300    0.073165   \n",
       "1993-02-03  25.991749  26.247825  25.973458  26.229534   529400    0.237785   \n",
       "1993-02-04  26.320984  26.394149  26.028326  26.339275   531500    0.018291   \n",
       "\n",
       "            close_label  max_magnitude_change  \n",
       "Date                                           \n",
       "1993-01-29            0              0.128038  \n",
       "1993-02-01            1              0.164620  \n",
       "1993-02-02            1              0.146329  \n",
       "1993-02-03            1              0.274368  \n",
       "1993-02-04            1              0.365823  "
      ]
     },
     "execution_count": 20,
     "metadata": {},
     "output_type": "execute_result"
    }
   ],
   "source": [
    "sp_df['max_magnitude_change'] = np.abs(sp_df.High - sp_df.Low) # we don't know which came first\n",
    "sp_df.head()"
   ]
  },
  {
   "cell_type": "code",
   "execution_count": 21,
   "metadata": {},
   "outputs": [
    {
     "data": {
      "text/html": [
       "<div>\n",
       "<style scoped>\n",
       "    .dataframe tbody tr th:only-of-type {\n",
       "        vertical-align: middle;\n",
       "    }\n",
       "\n",
       "    .dataframe tbody tr th {\n",
       "        vertical-align: top;\n",
       "    }\n",
       "\n",
       "    .dataframe thead th {\n",
       "        text-align: right;\n",
       "    }\n",
       "</style>\n",
       "<table border=\"1\" class=\"dataframe\">\n",
       "  <thead>\n",
       "    <tr style=\"text-align: right;\">\n",
       "      <th></th>\n",
       "      <th>Open</th>\n",
       "      <th>High</th>\n",
       "      <th>Low</th>\n",
       "      <th>Close</th>\n",
       "      <th>Volume</th>\n",
       "      <th>day_change</th>\n",
       "      <th>close_label</th>\n",
       "      <th>max_magnitude_change</th>\n",
       "      <th>largest_day_gain</th>\n",
       "      <th>largest_day_loss</th>\n",
       "    </tr>\n",
       "    <tr>\n",
       "      <th>Date</th>\n",
       "      <th></th>\n",
       "      <th></th>\n",
       "      <th></th>\n",
       "      <th></th>\n",
       "      <th></th>\n",
       "      <th></th>\n",
       "      <th></th>\n",
       "      <th></th>\n",
       "      <th></th>\n",
       "      <th></th>\n",
       "    </tr>\n",
       "  </thead>\n",
       "  <tbody>\n",
       "    <tr>\n",
       "      <th>1993-01-29</th>\n",
       "      <td>25.735660</td>\n",
       "      <td>25.735660</td>\n",
       "      <td>25.607622</td>\n",
       "      <td>25.717369</td>\n",
       "      <td>1003200</td>\n",
       "      <td>-0.018291</td>\n",
       "      <td>0</td>\n",
       "      <td>0.128038</td>\n",
       "      <td>0.109747</td>\n",
       "      <td>-0.128038</td>\n",
       "    </tr>\n",
       "    <tr>\n",
       "      <th>1993-02-01</th>\n",
       "      <td>25.735667</td>\n",
       "      <td>25.900288</td>\n",
       "      <td>25.735667</td>\n",
       "      <td>25.900288</td>\n",
       "      <td>480500</td>\n",
       "      <td>0.164620</td>\n",
       "      <td>1</td>\n",
       "      <td>0.164620</td>\n",
       "      <td>0.164620</td>\n",
       "      <td>0.000000</td>\n",
       "    </tr>\n",
       "    <tr>\n",
       "      <th>1993-02-02</th>\n",
       "      <td>25.881988</td>\n",
       "      <td>25.973444</td>\n",
       "      <td>25.827114</td>\n",
       "      <td>25.955153</td>\n",
       "      <td>201300</td>\n",
       "      <td>0.073165</td>\n",
       "      <td>1</td>\n",
       "      <td>0.146329</td>\n",
       "      <td>0.128038</td>\n",
       "      <td>-0.054873</td>\n",
       "    </tr>\n",
       "    <tr>\n",
       "      <th>1993-02-03</th>\n",
       "      <td>25.991749</td>\n",
       "      <td>26.247825</td>\n",
       "      <td>25.973458</td>\n",
       "      <td>26.229534</td>\n",
       "      <td>529400</td>\n",
       "      <td>0.237785</td>\n",
       "      <td>1</td>\n",
       "      <td>0.274368</td>\n",
       "      <td>0.256076</td>\n",
       "      <td>-0.018291</td>\n",
       "    </tr>\n",
       "    <tr>\n",
       "      <th>1993-02-04</th>\n",
       "      <td>26.320984</td>\n",
       "      <td>26.394149</td>\n",
       "      <td>26.028326</td>\n",
       "      <td>26.339275</td>\n",
       "      <td>531500</td>\n",
       "      <td>0.018291</td>\n",
       "      <td>1</td>\n",
       "      <td>0.365823</td>\n",
       "      <td>0.310950</td>\n",
       "      <td>-0.292659</td>\n",
       "    </tr>\n",
       "  </tbody>\n",
       "</table>\n",
       "</div>"
      ],
      "text/plain": [
       "                 Open       High        Low      Close   Volume  day_change  \\\n",
       "Date                                                                          \n",
       "1993-01-29  25.735660  25.735660  25.607622  25.717369  1003200   -0.018291   \n",
       "1993-02-01  25.735667  25.900288  25.735667  25.900288   480500    0.164620   \n",
       "1993-02-02  25.881988  25.973444  25.827114  25.955153   201300    0.073165   \n",
       "1993-02-03  25.991749  26.247825  25.973458  26.229534   529400    0.237785   \n",
       "1993-02-04  26.320984  26.394149  26.028326  26.339275   531500    0.018291   \n",
       "\n",
       "            close_label  max_magnitude_change  largest_day_gain  \\\n",
       "Date                                                              \n",
       "1993-01-29            0              0.128038          0.109747   \n",
       "1993-02-01            1              0.164620          0.164620   \n",
       "1993-02-02            1              0.146329          0.128038   \n",
       "1993-02-03            1              0.274368          0.256076   \n",
       "1993-02-04            1              0.365823          0.310950   \n",
       "\n",
       "            largest_day_loss  \n",
       "Date                          \n",
       "1993-01-29         -0.128038  \n",
       "1993-02-01          0.000000  \n",
       "1993-02-02         -0.054873  \n",
       "1993-02-03         -0.018291  \n",
       "1993-02-04         -0.292659  "
      ]
     },
     "execution_count": 21,
     "metadata": {},
     "output_type": "execute_result"
    }
   ],
   "source": [
    "# the high or low will always come after the Open, the earliest they can come is at Open\n",
    "sp_df['largest_day_gain'] = np.max([sp_df.High - sp_df.Open, sp_df.Close - sp_df.Low], axis=0)\n",
    "sp_df['largest_day_loss'] = np.min([sp_df.Low - sp_df.Open, sp_df.Close - sp_df.High], axis=0)\n",
    "sp_df.head()"
   ]
  },
  {
   "cell_type": "code",
   "execution_count": 22,
   "metadata": {},
   "outputs": [
    {
     "data": {
      "text/html": [
       "<div>\n",
       "<style scoped>\n",
       "    .dataframe tbody tr th:only-of-type {\n",
       "        vertical-align: middle;\n",
       "    }\n",
       "\n",
       "    .dataframe tbody tr th {\n",
       "        vertical-align: top;\n",
       "    }\n",
       "\n",
       "    .dataframe thead th {\n",
       "        text-align: right;\n",
       "    }\n",
       "</style>\n",
       "<table border=\"1\" class=\"dataframe\">\n",
       "  <thead>\n",
       "    <tr style=\"text-align: right;\">\n",
       "      <th></th>\n",
       "      <th>Open</th>\n",
       "      <th>High</th>\n",
       "      <th>Low</th>\n",
       "      <th>Close</th>\n",
       "      <th>Volume</th>\n",
       "      <th>day_change</th>\n",
       "      <th>close_label</th>\n",
       "      <th>max_magnitude_change</th>\n",
       "      <th>largest_day_gain</th>\n",
       "      <th>largest_day_loss</th>\n",
       "    </tr>\n",
       "    <tr>\n",
       "      <th>Date</th>\n",
       "      <th></th>\n",
       "      <th></th>\n",
       "      <th></th>\n",
       "      <th></th>\n",
       "      <th></th>\n",
       "      <th></th>\n",
       "      <th></th>\n",
       "      <th></th>\n",
       "      <th></th>\n",
       "      <th></th>\n",
       "    </tr>\n",
       "  </thead>\n",
       "  <tbody>\n",
       "    <tr>\n",
       "      <th>2021-11-24</th>\n",
       "      <td>466.059998</td>\n",
       "      <td>469.570007</td>\n",
       "      <td>465.190002</td>\n",
       "      <td>469.440002</td>\n",
       "      <td>61858800</td>\n",
       "      <td>3.380005</td>\n",
       "      <td>1</td>\n",
       "      <td>4.380005</td>\n",
       "      <td>4.250000</td>\n",
       "      <td>-0.869995</td>\n",
       "    </tr>\n",
       "    <tr>\n",
       "      <th>2021-11-26</th>\n",
       "      <td>462.339996</td>\n",
       "      <td>463.899994</td>\n",
       "      <td>457.769989</td>\n",
       "      <td>458.970001</td>\n",
       "      <td>112669600</td>\n",
       "      <td>-3.369995</td>\n",
       "      <td>0</td>\n",
       "      <td>6.130005</td>\n",
       "      <td>1.559998</td>\n",
       "      <td>-4.929993</td>\n",
       "    </tr>\n",
       "    <tr>\n",
       "      <th>2021-11-29</th>\n",
       "      <td>464.070007</td>\n",
       "      <td>466.559998</td>\n",
       "      <td>461.730011</td>\n",
       "      <td>464.600006</td>\n",
       "      <td>86268800</td>\n",
       "      <td>0.529999</td>\n",
       "      <td>1</td>\n",
       "      <td>4.829987</td>\n",
       "      <td>2.869995</td>\n",
       "      <td>-2.339996</td>\n",
       "    </tr>\n",
       "    <tr>\n",
       "      <th>2021-11-30</th>\n",
       "      <td>462.000000</td>\n",
       "      <td>464.029999</td>\n",
       "      <td>455.299988</td>\n",
       "      <td>455.559998</td>\n",
       "      <td>148559600</td>\n",
       "      <td>-6.440002</td>\n",
       "      <td>0</td>\n",
       "      <td>8.730011</td>\n",
       "      <td>2.029999</td>\n",
       "      <td>-8.470001</td>\n",
       "    </tr>\n",
       "    <tr>\n",
       "      <th>2021-12-01</th>\n",
       "      <td>461.640015</td>\n",
       "      <td>464.670013</td>\n",
       "      <td>450.290009</td>\n",
       "      <td>450.500000</td>\n",
       "      <td>132486146</td>\n",
       "      <td>-11.140015</td>\n",
       "      <td>0</td>\n",
       "      <td>14.380005</td>\n",
       "      <td>3.029999</td>\n",
       "      <td>-14.170013</td>\n",
       "    </tr>\n",
       "  </tbody>\n",
       "</table>\n",
       "</div>"
      ],
      "text/plain": [
       "                  Open        High         Low       Close     Volume  \\\n",
       "Date                                                                    \n",
       "2021-11-24  466.059998  469.570007  465.190002  469.440002   61858800   \n",
       "2021-11-26  462.339996  463.899994  457.769989  458.970001  112669600   \n",
       "2021-11-29  464.070007  466.559998  461.730011  464.600006   86268800   \n",
       "2021-11-30  462.000000  464.029999  455.299988  455.559998  148559600   \n",
       "2021-12-01  461.640015  464.670013  450.290009  450.500000  132486146   \n",
       "\n",
       "            day_change  close_label  max_magnitude_change  largest_day_gain  \\\n",
       "Date                                                                          \n",
       "2021-11-24    3.380005            1              4.380005          4.250000   \n",
       "2021-11-26   -3.369995            0              6.130005          1.559998   \n",
       "2021-11-29    0.529999            1              4.829987          2.869995   \n",
       "2021-11-30   -6.440002            0              8.730011          2.029999   \n",
       "2021-12-01  -11.140015            0             14.380005          3.029999   \n",
       "\n",
       "            largest_day_loss  \n",
       "Date                          \n",
       "2021-11-24         -0.869995  \n",
       "2021-11-26         -4.929993  \n",
       "2021-11-29         -2.339996  \n",
       "2021-11-30         -8.470001  \n",
       "2021-12-01        -14.170013  "
      ]
     },
     "execution_count": 22,
     "metadata": {},
     "output_type": "execute_result"
    }
   ],
   "source": [
    "sp_df.tail()"
   ]
  },
  {
   "cell_type": "code",
   "execution_count": 23,
   "metadata": {},
   "outputs": [
    {
     "data": {
      "text/html": [
       "<div>\n",
       "<style scoped>\n",
       "    .dataframe tbody tr th:only-of-type {\n",
       "        vertical-align: middle;\n",
       "    }\n",
       "\n",
       "    .dataframe tbody tr th {\n",
       "        vertical-align: top;\n",
       "    }\n",
       "\n",
       "    .dataframe thead th {\n",
       "        text-align: right;\n",
       "    }\n",
       "</style>\n",
       "<table border=\"1\" class=\"dataframe\">\n",
       "  <thead>\n",
       "    <tr style=\"text-align: right;\">\n",
       "      <th></th>\n",
       "      <th>Open</th>\n",
       "      <th>High</th>\n",
       "      <th>Low</th>\n",
       "      <th>Close</th>\n",
       "      <th>Volume</th>\n",
       "      <th>day_change</th>\n",
       "      <th>close_label</th>\n",
       "      <th>max_magnitude_change</th>\n",
       "      <th>largest_day_gain</th>\n",
       "      <th>largest_day_loss</th>\n",
       "      <th>day_sd</th>\n",
       "      <th>day_mean</th>\n",
       "      <th>day_median</th>\n",
       "    </tr>\n",
       "    <tr>\n",
       "      <th>Date</th>\n",
       "      <th></th>\n",
       "      <th></th>\n",
       "      <th></th>\n",
       "      <th></th>\n",
       "      <th></th>\n",
       "      <th></th>\n",
       "      <th></th>\n",
       "      <th></th>\n",
       "      <th></th>\n",
       "      <th></th>\n",
       "      <th></th>\n",
       "      <th></th>\n",
       "      <th></th>\n",
       "    </tr>\n",
       "  </thead>\n",
       "  <tbody>\n",
       "    <tr>\n",
       "      <th>2021-11-24</th>\n",
       "      <td>466.059998</td>\n",
       "      <td>469.570007</td>\n",
       "      <td>465.190002</td>\n",
       "      <td>469.440002</td>\n",
       "      <td>61858800</td>\n",
       "      <td>3.380005</td>\n",
       "      <td>1</td>\n",
       "      <td>4.380005</td>\n",
       "      <td>4.250000</td>\n",
       "      <td>-0.869995</td>\n",
       "      <td>1.964773</td>\n",
       "      <td>467.565002</td>\n",
       "      <td>467.380005</td>\n",
       "    </tr>\n",
       "    <tr>\n",
       "      <th>2021-11-26</th>\n",
       "      <td>462.339996</td>\n",
       "      <td>463.899994</td>\n",
       "      <td>457.769989</td>\n",
       "      <td>458.970001</td>\n",
       "      <td>112669600</td>\n",
       "      <td>-3.369995</td>\n",
       "      <td>0</td>\n",
       "      <td>6.130005</td>\n",
       "      <td>1.559998</td>\n",
       "      <td>-4.929993</td>\n",
       "      <td>2.474839</td>\n",
       "      <td>460.744995</td>\n",
       "      <td>460.834991</td>\n",
       "    </tr>\n",
       "    <tr>\n",
       "      <th>2021-11-29</th>\n",
       "      <td>464.070007</td>\n",
       "      <td>466.559998</td>\n",
       "      <td>461.730011</td>\n",
       "      <td>464.600006</td>\n",
       "      <td>86268800</td>\n",
       "      <td>0.529999</td>\n",
       "      <td>1</td>\n",
       "      <td>4.829987</td>\n",
       "      <td>2.869995</td>\n",
       "      <td>-2.339996</td>\n",
       "      <td>1.720533</td>\n",
       "      <td>464.240005</td>\n",
       "      <td>464.145004</td>\n",
       "    </tr>\n",
       "    <tr>\n",
       "      <th>2021-11-30</th>\n",
       "      <td>462.000000</td>\n",
       "      <td>464.029999</td>\n",
       "      <td>455.299988</td>\n",
       "      <td>455.559998</td>\n",
       "      <td>148559600</td>\n",
       "      <td>-6.440002</td>\n",
       "      <td>0</td>\n",
       "      <td>8.730011</td>\n",
       "      <td>2.029999</td>\n",
       "      <td>-8.470001</td>\n",
       "      <td>3.860912</td>\n",
       "      <td>459.222496</td>\n",
       "      <td>459.664993</td>\n",
       "    </tr>\n",
       "    <tr>\n",
       "      <th>2021-12-01</th>\n",
       "      <td>461.640015</td>\n",
       "      <td>464.670013</td>\n",
       "      <td>450.290009</td>\n",
       "      <td>450.500000</td>\n",
       "      <td>132486146</td>\n",
       "      <td>-11.140015</td>\n",
       "      <td>0</td>\n",
       "      <td>14.380005</td>\n",
       "      <td>3.029999</td>\n",
       "      <td>-14.170013</td>\n",
       "      <td>6.469744</td>\n",
       "      <td>456.775009</td>\n",
       "      <td>457.480011</td>\n",
       "    </tr>\n",
       "  </tbody>\n",
       "</table>\n",
       "</div>"
      ],
      "text/plain": [
       "                  Open        High         Low       Close     Volume  \\\n",
       "Date                                                                    \n",
       "2021-11-24  466.059998  469.570007  465.190002  469.440002   61858800   \n",
       "2021-11-26  462.339996  463.899994  457.769989  458.970001  112669600   \n",
       "2021-11-29  464.070007  466.559998  461.730011  464.600006   86268800   \n",
       "2021-11-30  462.000000  464.029999  455.299988  455.559998  148559600   \n",
       "2021-12-01  461.640015  464.670013  450.290009  450.500000  132486146   \n",
       "\n",
       "            day_change  close_label  max_magnitude_change  largest_day_gain  \\\n",
       "Date                                                                          \n",
       "2021-11-24    3.380005            1              4.380005          4.250000   \n",
       "2021-11-26   -3.369995            0              6.130005          1.559998   \n",
       "2021-11-29    0.529999            1              4.829987          2.869995   \n",
       "2021-11-30   -6.440002            0              8.730011          2.029999   \n",
       "2021-12-01  -11.140015            0             14.380005          3.029999   \n",
       "\n",
       "            largest_day_loss    day_sd    day_mean  day_median  \n",
       "Date                                                            \n",
       "2021-11-24         -0.869995  1.964773  467.565002  467.380005  \n",
       "2021-11-26         -4.929993  2.474839  460.744995  460.834991  \n",
       "2021-11-29         -2.339996  1.720533  464.240005  464.145004  \n",
       "2021-11-30         -8.470001  3.860912  459.222496  459.664993  \n",
       "2021-12-01        -14.170013  6.469744  456.775009  457.480011  "
      ]
     },
     "execution_count": 23,
     "metadata": {},
     "output_type": "execute_result"
    }
   ],
   "source": [
    "sp_df['day_sd'] = np.std([sp_df.Open, sp_df.High, sp_df.Low, sp_df.Close], axis=0)\n",
    "sp_df['day_mean'] = np.mean([sp_df.Open, sp_df.High, sp_df.Low, sp_df.Close], axis=0)\n",
    "sp_df['day_median'] = np.median([sp_df.Low, sp_df.High], axis=0)\n",
    "sp_df.tail()"
   ]
  },
  {
   "cell_type": "code",
   "execution_count": 24,
   "metadata": {},
   "outputs": [],
   "source": [
    "def generate_features(sp_df):\n",
    "    \"\"\"\n",
    "    Derive a more robust set of features from the given data\n",
    "\n",
    "    Inputs:\n",
    "    Returns:\n",
    "    \"\"\"\n",
    "    df = sp_df.copy()\n",
    "\n",
    "    # compute the day change, the observed difference between the Close and Open\n",
    "    df['day_change'] = df.Close - df.Open\n",
    "\n",
    "    # compute the class labels or outcomes of interest (\"Green\" == 1)\n",
    "    df['close_label'] = df.day_change.apply(lambda x: 1 if x > 0 else 0)\n",
    "    # close_label is our target. Given a sequence of days x1,...,xN we want to predict close_label on day xN+1.\n",
    "    \n",
    "    # compute the magnitude of change observed between the max and min value\n",
    "    ## observed on a given day\n",
    "    df['max_magnitude_change'] = np.abs(df.High - df.Low) \n",
    "    # we take the absolute value, because we don't know which value came first..\n",
    "\n",
    "    # compute largest day gain and loss observed\n",
    "    df['largest_day_gain'] = np.max([df.High - df.Open, df.Close - df.Low], axis=0)\n",
    "    df['largest_day_loss'] = np.min([df.Low - df.Open, df.Close - df.High], axis=0)\n",
    "    # the high or low will always come after the Open, the earliest they can come is at Open\n",
    "\n",
    "    # compute descriptive statistics of the values for the day that we DO have\n",
    "    df['day_sd'] = np.std([df.Open, df.High, df.Low, df.Close], axis=0)\n",
    "    df['day_mean'] = np.mean([df.Open, df.High, df.Low, df.Close], axis=0)\n",
    "    df['day_median'] = np.median([df.Low, df.High], axis=0)\n",
    "    # TODO: need to get intraday values/data for the entire day\n",
    "\n",
    "    return df"
   ]
  },
  {
   "cell_type": "code",
   "execution_count": 25,
   "metadata": {},
   "outputs": [
    {
     "name": "stdout",
     "output_type": "stream",
     "text": [
      "CPU times: user 35.5 ms, sys: 8.15 ms, total: 43.7 ms\n",
      "Wall time: 38.9 ms\n"
     ]
    },
    {
     "data": {
      "text/html": [
       "<div>\n",
       "<style scoped>\n",
       "    .dataframe tbody tr th:only-of-type {\n",
       "        vertical-align: middle;\n",
       "    }\n",
       "\n",
       "    .dataframe tbody tr th {\n",
       "        vertical-align: top;\n",
       "    }\n",
       "\n",
       "    .dataframe thead th {\n",
       "        text-align: right;\n",
       "    }\n",
       "</style>\n",
       "<table border=\"1\" class=\"dataframe\">\n",
       "  <thead>\n",
       "    <tr style=\"text-align: right;\">\n",
       "      <th></th>\n",
       "      <th>Open</th>\n",
       "      <th>High</th>\n",
       "      <th>Low</th>\n",
       "      <th>Close</th>\n",
       "      <th>Volume</th>\n",
       "      <th>day_change</th>\n",
       "      <th>close_label</th>\n",
       "      <th>max_magnitude_change</th>\n",
       "      <th>largest_day_gain</th>\n",
       "      <th>largest_day_loss</th>\n",
       "      <th>day_sd</th>\n",
       "      <th>day_mean</th>\n",
       "      <th>day_median</th>\n",
       "    </tr>\n",
       "    <tr>\n",
       "      <th>Date</th>\n",
       "      <th></th>\n",
       "      <th></th>\n",
       "      <th></th>\n",
       "      <th></th>\n",
       "      <th></th>\n",
       "      <th></th>\n",
       "      <th></th>\n",
       "      <th></th>\n",
       "      <th></th>\n",
       "      <th></th>\n",
       "      <th></th>\n",
       "      <th></th>\n",
       "      <th></th>\n",
       "    </tr>\n",
       "  </thead>\n",
       "  <tbody>\n",
       "    <tr>\n",
       "      <th>2021-11-24</th>\n",
       "      <td>466.059998</td>\n",
       "      <td>469.570007</td>\n",
       "      <td>465.190002</td>\n",
       "      <td>469.440002</td>\n",
       "      <td>61858800</td>\n",
       "      <td>3.380005</td>\n",
       "      <td>1</td>\n",
       "      <td>4.380005</td>\n",
       "      <td>4.250000</td>\n",
       "      <td>-0.869995</td>\n",
       "      <td>1.964773</td>\n",
       "      <td>467.565002</td>\n",
       "      <td>467.380005</td>\n",
       "    </tr>\n",
       "    <tr>\n",
       "      <th>2021-11-26</th>\n",
       "      <td>462.339996</td>\n",
       "      <td>463.899994</td>\n",
       "      <td>457.769989</td>\n",
       "      <td>458.970001</td>\n",
       "      <td>112669600</td>\n",
       "      <td>-3.369995</td>\n",
       "      <td>0</td>\n",
       "      <td>6.130005</td>\n",
       "      <td>1.559998</td>\n",
       "      <td>-4.929993</td>\n",
       "      <td>2.474839</td>\n",
       "      <td>460.744995</td>\n",
       "      <td>460.834991</td>\n",
       "    </tr>\n",
       "    <tr>\n",
       "      <th>2021-11-29</th>\n",
       "      <td>464.070007</td>\n",
       "      <td>466.559998</td>\n",
       "      <td>461.730011</td>\n",
       "      <td>464.600006</td>\n",
       "      <td>86268800</td>\n",
       "      <td>0.529999</td>\n",
       "      <td>1</td>\n",
       "      <td>4.829987</td>\n",
       "      <td>2.869995</td>\n",
       "      <td>-2.339996</td>\n",
       "      <td>1.720533</td>\n",
       "      <td>464.240005</td>\n",
       "      <td>464.145004</td>\n",
       "    </tr>\n",
       "    <tr>\n",
       "      <th>2021-11-30</th>\n",
       "      <td>462.000000</td>\n",
       "      <td>464.029999</td>\n",
       "      <td>455.299988</td>\n",
       "      <td>455.559998</td>\n",
       "      <td>148559600</td>\n",
       "      <td>-6.440002</td>\n",
       "      <td>0</td>\n",
       "      <td>8.730011</td>\n",
       "      <td>2.029999</td>\n",
       "      <td>-8.470001</td>\n",
       "      <td>3.860912</td>\n",
       "      <td>459.222496</td>\n",
       "      <td>459.664993</td>\n",
       "    </tr>\n",
       "    <tr>\n",
       "      <th>2021-12-01</th>\n",
       "      <td>461.640015</td>\n",
       "      <td>464.670013</td>\n",
       "      <td>450.290009</td>\n",
       "      <td>450.500000</td>\n",
       "      <td>132486146</td>\n",
       "      <td>-11.140015</td>\n",
       "      <td>0</td>\n",
       "      <td>14.380005</td>\n",
       "      <td>3.029999</td>\n",
       "      <td>-14.170013</td>\n",
       "      <td>6.469744</td>\n",
       "      <td>456.775009</td>\n",
       "      <td>457.480011</td>\n",
       "    </tr>\n",
       "  </tbody>\n",
       "</table>\n",
       "</div>"
      ],
      "text/plain": [
       "                  Open        High         Low       Close     Volume  \\\n",
       "Date                                                                    \n",
       "2021-11-24  466.059998  469.570007  465.190002  469.440002   61858800   \n",
       "2021-11-26  462.339996  463.899994  457.769989  458.970001  112669600   \n",
       "2021-11-29  464.070007  466.559998  461.730011  464.600006   86268800   \n",
       "2021-11-30  462.000000  464.029999  455.299988  455.559998  148559600   \n",
       "2021-12-01  461.640015  464.670013  450.290009  450.500000  132486146   \n",
       "\n",
       "            day_change  close_label  max_magnitude_change  largest_day_gain  \\\n",
       "Date                                                                          \n",
       "2021-11-24    3.380005            1              4.380005          4.250000   \n",
       "2021-11-26   -3.369995            0              6.130005          1.559998   \n",
       "2021-11-29    0.529999            1              4.829987          2.869995   \n",
       "2021-11-30   -6.440002            0              8.730011          2.029999   \n",
       "2021-12-01  -11.140015            0             14.380005          3.029999   \n",
       "\n",
       "            largest_day_loss    day_sd    day_mean  day_median  \n",
       "Date                                                            \n",
       "2021-11-24         -0.869995  1.964773  467.565002  467.380005  \n",
       "2021-11-26         -4.929993  2.474839  460.744995  460.834991  \n",
       "2021-11-29         -2.339996  1.720533  464.240005  464.145004  \n",
       "2021-11-30         -8.470001  3.860912  459.222496  459.664993  \n",
       "2021-12-01        -14.170013  6.469744  456.775009  457.480011  "
      ]
     },
     "execution_count": 25,
     "metadata": {},
     "output_type": "execute_result"
    }
   ],
   "source": [
    "%%time\n",
    "res_df = generate_features(sp_df)\n",
    "res_df.tail()"
   ]
  },
  {
   "cell_type": "code",
   "execution_count": 26,
   "metadata": {},
   "outputs": [
    {
     "data": {
      "image/png": "[encoded data removed]",
      "text/plain": [
       "<Figure size 432x288 with 1 Axes>"
      ]
     },
     "metadata": {
      "needs_background": "light"
     },
     "output_type": "display_data"
    }
   ],
   "source": [
    "sp_df.day_mean.plot()\n",
    "plt.show()"
   ]
  },
  {
   "cell_type": "code",
   "execution_count": 27,
   "metadata": {},
   "outputs": [
    {
     "data": {
      "image/png": "[encoded data removed]",
      "text/plain": [
       "<Figure size 432x288 with 1 Axes>"
      ]
     },
     "metadata": {
      "needs_background": "light"
     },
     "output_type": "display_data"
    }
   ],
   "source": [
    "sns.lineplot(x=res_df.index, y=res_df.day_mean)\n",
    "plt.grid()\n",
    "plt.xlabel('Day Mean (The average of Open, Close, High and Low for the Day')\n",
    "plt.show()"
   ]
  },
  {
   "cell_type": "code",
   "execution_count": 28,
   "metadata": {},
   "outputs": [
    {
     "data": {
      "image/png": "[encoded data removed]",
      "text/plain": [
       "<Figure size 720x360 with 1 Axes>"
      ]
     },
     "metadata": {
      "needs_background": "light"
     },
     "output_type": "display_data"
    }
   ],
   "source": [
    "fig,ax = plt.subplots(figsize=(10,5))\n",
    "sp_df.day_sd.plot()\n",
    "plt.show()"
   ]
  },
  {
   "cell_type": "code",
   "execution_count": 29,
   "metadata": {},
   "outputs": [
    {
     "data": {
      "image/png": "[encoded data removed]",
      "text/plain": [
       "<Figure size 432x288 with 1 Axes>"
      ]
     },
     "metadata": {
      "needs_background": "light"
     },
     "output_type": "display_data"
    }
   ],
   "source": [
    "sp_df['cv'] = sp_df.day_mean/sp_df.day_sd\n",
    "sp_df.cv.plot()\n",
    "plt.show()"
   ]
  },
  {
   "cell_type": "markdown",
   "metadata": {},
   "source": [
    "# Explore relationships between our features:"
   ]
  },
  {
   "cell_type": "markdown",
   "metadata": {},
   "source": [
    "### Relationship between largest intraday gain and close label (Green 1, or Red 0)"
   ]
  },
  {
   "cell_type": "code",
   "execution_count": 30,
   "metadata": {},
   "outputs": [
    {
     "data": {
      "image/png": "[encoded data removed]",
      "text/plain": [
       "<Figure size 432x288 with 1 Axes>"
      ]
     },
     "metadata": {
      "needs_background": "light"
     },
     "output_type": "display_data"
    }
   ],
   "source": [
    "import seaborn as sns\n",
    "sns.regplot(x='largest_day_gain', y='close_label', data=sp_df)\n",
    "plt.show()"
   ]
  },
  {
   "cell_type": "code",
   "execution_count": 31,
   "metadata": {},
   "outputs": [
    {
     "data": {
      "image/png": "[encoded data removed]",
      "text/plain": [
       "<Figure size 432x288 with 1 Axes>"
      ]
     },
     "metadata": {
      "needs_background": "light"
     },
     "output_type": "display_data"
    }
   ],
   "source": [
    "sns.regplot(x='largest_day_gain', y='day_change', data=sp_df)\n",
    "plt.show()"
   ]
  },
  {
   "cell_type": "markdown",
   "metadata": {},
   "source": [
    "### Relationship between largest intraday loss and close label and daily change"
   ]
  },
  {
   "cell_type": "code",
   "execution_count": 32,
   "metadata": {},
   "outputs": [
    {
     "data": {
      "image/png": "[encoded data removed]",
      "text/plain": [
       "<Figure size 432x288 with 1 Axes>"
      ]
     },
     "metadata": {
      "needs_background": "light"
     },
     "output_type": "display_data"
    }
   ],
   "source": [
    "sns.regplot(x='largest_day_loss', y='close_label', data=sp_df)\n",
    "plt.show()"
   ]
  },
  {
   "cell_type": "code",
   "execution_count": 33,
   "metadata": {
    "scrolled": true
   },
   "outputs": [
    {
     "data": {
      "image/png": "[encoded data removed]",
      "text/plain": [
       "<Figure size 432x288 with 1 Axes>"
      ]
     },
     "metadata": {
      "needs_background": "light"
     },
     "output_type": "display_data"
    }
   ],
   "source": [
    "sns.regplot(x='largest_day_loss', y='day_change', data=sp_df)\n",
    "plt.show()"
   ]
  },
  {
   "cell_type": "code",
   "execution_count": null,
   "metadata": {},
   "outputs": [],
   "source": []
  },
  {
   "cell_type": "code",
   "execution_count": 34,
   "metadata": {},
   "outputs": [
    {
     "data": {
      "image/png": "[encoded data removed]",
      "text/plain": [
       "<Figure size 432x288 with 1 Axes>"
      ]
     },
     "metadata": {
      "needs_background": "light"
     },
     "output_type": "display_data"
    }
   ],
   "source": [
    "sns.regplot(x='max_magnitude_change', y='close_label', data=sp_df)\n",
    "plt.show()"
   ]
  },
  {
   "cell_type": "code",
   "execution_count": 35,
   "metadata": {},
   "outputs": [
    {
     "data": {
      "image/png": "[encoded data removed]",
      "text/plain": [
       "<Figure size 432x288 with 1 Axes>"
      ]
     },
     "metadata": {
      "needs_background": "light"
     },
     "output_type": "display_data"
    }
   ],
   "source": [
    "sns.regplot(x='day_change', y='close_label', data=sp_df)\n",
    "plt.show()"
   ]
  },
  {
   "cell_type": "code",
   "execution_count": 36,
   "metadata": {},
   "outputs": [
    {
     "data": {
      "image/png": "[encoded data removed]",
      "text/plain": [
       "<Figure size 432x288 with 1 Axes>"
      ]
     },
     "metadata": {
      "needs_background": "light"
     },
     "output_type": "display_data"
    }
   ],
   "source": [
    "sns.regplot(x='day_median', y='close_label', data=sp_df)\n",
    "plt.show()"
   ]
  },
  {
   "cell_type": "code",
   "execution_count": 37,
   "metadata": {},
   "outputs": [
    {
     "data": {
      "image/png": "[encoded data removed]",
      "text/plain": [
       "<Figure size 432x288 with 1 Axes>"
      ]
     },
     "metadata": {
      "needs_background": "light"
     },
     "output_type": "display_data"
    }
   ],
   "source": [
    "sns.regplot(x='day_mean', y='close_label', data=sp_df)\n",
    "plt.show()"
   ]
  },
  {
   "cell_type": "code",
   "execution_count": 38,
   "metadata": {},
   "outputs": [
    {
     "data": {
      "image/png": "[encoded data removed]",
      "text/plain": [
       "<Figure size 432x288 with 1 Axes>"
      ]
     },
     "metadata": {
      "needs_background": "light"
     },
     "output_type": "display_data"
    }
   ],
   "source": [
    "sns.regplot(x='day_sd', y='close_label', data=sp_df)\n",
    "plt.show()"
   ]
  },
  {
   "cell_type": "code",
   "execution_count": 39,
   "metadata": {},
   "outputs": [
    {
     "data": {
      "image/png": "[encoded data removed]",
      "text/plain": [
       "<Figure size 432x288 with 1 Axes>"
      ]
     },
     "metadata": {
      "needs_background": "light"
     },
     "output_type": "display_data"
    }
   ],
   "source": [
    "sns.regplot(x='Close', y='close_label', data=sp_df)\n",
    "plt.show()"
   ]
  },
  {
   "cell_type": "code",
   "execution_count": 40,
   "metadata": {},
   "outputs": [
    {
     "data": {
      "image/png": "[encoded data removed]",
      "text/plain": [
       "<Figure size 432x288 with 1 Axes>"
      ]
     },
     "metadata": {
      "needs_background": "light"
     },
     "output_type": "display_data"
    }
   ],
   "source": [
    "sns.regplot(x='Low', y='close_label', data=sp_df)\n",
    "plt.show()"
   ]
  },
  {
   "cell_type": "code",
   "execution_count": 41,
   "metadata": {},
   "outputs": [
    {
     "data": {
      "image/png": "[encoded data removed]",
      "text/plain": [
       "<Figure size 432x288 with 1 Axes>"
      ]
     },
     "metadata": {
      "needs_background": "light"
     },
     "output_type": "display_data"
    }
   ],
   "source": [
    "sns.regplot(x='High', y='close_label', data=sp_df)\n",
    "plt.show()"
   ]
  },
  {
   "cell_type": "code",
   "execution_count": 42,
   "metadata": {},
   "outputs": [
    {
     "data": {
      "image/png": "[encoded data removed]",
      "text/plain": [
       "<Figure size 432x288 with 1 Axes>"
      ]
     },
     "metadata": {
      "needs_background": "light"
     },
     "output_type": "display_data"
    }
   ],
   "source": [
    "sns.regplot(x='cv', y='close_label', data=sp_df)\n",
    "plt.show()"
   ]
  },
  {
   "cell_type": "markdown",
   "metadata": {},
   "source": [
    "# Examine distributions of our features:"
   ]
  },
  {
   "cell_type": "code",
   "execution_count": 43,
   "metadata": {},
   "outputs": [
    {
     "data": {
      "image/png": "[encoded data removed]",
      "text/plain": [
       "<Figure size 432x288 with 1 Axes>"
      ]
     },
     "metadata": {
      "needs_background": "light"
     },
     "output_type": "display_data"
    }
   ],
   "source": [
    "sp_df.day_change.hist(bins=100)\n",
    "plt.show()"
   ]
  },
  {
   "cell_type": "code",
   "execution_count": 44,
   "metadata": {},
   "outputs": [
    {
     "data": {
      "image/png": "[encoded data removed]",
      "text/plain": [
       "<Figure size 432x288 with 1 Axes>"
      ]
     },
     "metadata": {
      "needs_background": "light"
     },
     "output_type": "display_data"
    }
   ],
   "source": [
    "sp_df.largest_day_gain.hist(bins=100)\n",
    "plt.show()"
   ]
  },
  {
   "cell_type": "code",
   "execution_count": 45,
   "metadata": {},
   "outputs": [
    {
     "data": {
      "image/png": "[encoded data removed]",
      "text/plain": [
       "<Figure size 432x288 with 1 Axes>"
      ]
     },
     "metadata": {
      "needs_background": "light"
     },
     "output_type": "display_data"
    }
   ],
   "source": [
    "sp_df.largest_day_loss.hist(bins=100)\n",
    "plt.show()"
   ]
  },
  {
   "cell_type": "code",
   "execution_count": 46,
   "metadata": {},
   "outputs": [
    {
     "data": {
      "image/png": "[encoded data removed]",
      "text/plain": [
       "<Figure size 432x288 with 1 Axes>"
      ]
     },
     "metadata": {
      "needs_background": "light"
     },
     "output_type": "display_data"
    }
   ],
   "source": [
    "sp_df.max_magnitude_change.hist(bins=100)\n",
    "plt.show()"
   ]
  },
  {
   "cell_type": "code",
   "execution_count": null,
   "metadata": {},
   "outputs": [],
   "source": []
  },
  {
   "cell_type": "markdown",
   "metadata": {},
   "source": [
    "# I'd really like intraday data to make better features:\n",
    "    -percent time spent above open ; below close\n",
    "    -num times cross open\n",
    "    -etc"
   ]
  },
  {
   "cell_type": "code",
   "execution_count": 47,
   "metadata": {},
   "outputs": [
    {
     "data": {
      "text/html": [
       "<div>\n",
       "<style scoped>\n",
       "    .dataframe tbody tr th:only-of-type {\n",
       "        vertical-align: middle;\n",
       "    }\n",
       "\n",
       "    .dataframe tbody tr th {\n",
       "        vertical-align: top;\n",
       "    }\n",
       "\n",
       "    .dataframe thead th {\n",
       "        text-align: right;\n",
       "    }\n",
       "</style>\n",
       "<table border=\"1\" class=\"dataframe\">\n",
       "  <thead>\n",
       "    <tr style=\"text-align: right;\">\n",
       "      <th></th>\n",
       "      <th>Open</th>\n",
       "      <th>High</th>\n",
       "      <th>Low</th>\n",
       "      <th>Close</th>\n",
       "      <th>Volume</th>\n",
       "      <th>day_change</th>\n",
       "      <th>close_label</th>\n",
       "      <th>max_magnitude_change</th>\n",
       "      <th>largest_day_gain</th>\n",
       "      <th>largest_day_loss</th>\n",
       "      <th>day_sd</th>\n",
       "      <th>day_mean</th>\n",
       "      <th>day_median</th>\n",
       "      <th>cv</th>\n",
       "    </tr>\n",
       "    <tr>\n",
       "      <th>Date</th>\n",
       "      <th></th>\n",
       "      <th></th>\n",
       "      <th></th>\n",
       "      <th></th>\n",
       "      <th></th>\n",
       "      <th></th>\n",
       "      <th></th>\n",
       "      <th></th>\n",
       "      <th></th>\n",
       "      <th></th>\n",
       "      <th></th>\n",
       "      <th></th>\n",
       "      <th></th>\n",
       "      <th></th>\n",
       "    </tr>\n",
       "  </thead>\n",
       "  <tbody>\n",
       "    <tr>\n",
       "      <th>1993-01-29</th>\n",
       "      <td>25.735660</td>\n",
       "      <td>25.735660</td>\n",
       "      <td>25.607622</td>\n",
       "      <td>25.717369</td>\n",
       "      <td>1003200</td>\n",
       "      <td>-0.018291</td>\n",
       "      <td>0</td>\n",
       "      <td>0.128038</td>\n",
       "      <td>0.109747</td>\n",
       "      <td>-0.128038</td>\n",
       "      <td>0.053327</td>\n",
       "      <td>25.699078</td>\n",
       "      <td>25.671641</td>\n",
       "      <td>481.911024</td>\n",
       "    </tr>\n",
       "    <tr>\n",
       "      <th>1993-02-01</th>\n",
       "      <td>25.735667</td>\n",
       "      <td>25.900288</td>\n",
       "      <td>25.735667</td>\n",
       "      <td>25.900288</td>\n",
       "      <td>480500</td>\n",
       "      <td>0.164620</td>\n",
       "      <td>1</td>\n",
       "      <td>0.164620</td>\n",
       "      <td>0.164620</td>\n",
       "      <td>0.000000</td>\n",
       "      <td>0.082310</td>\n",
       "      <td>25.817977</td>\n",
       "      <td>25.817977</td>\n",
       "      <td>313.666667</td>\n",
       "    </tr>\n",
       "    <tr>\n",
       "      <th>1993-02-02</th>\n",
       "      <td>25.881988</td>\n",
       "      <td>25.973444</td>\n",
       "      <td>25.827114</td>\n",
       "      <td>25.955153</td>\n",
       "      <td>201300</td>\n",
       "      <td>0.073165</td>\n",
       "      <td>1</td>\n",
       "      <td>0.146329</td>\n",
       "      <td>0.128038</td>\n",
       "      <td>-0.054873</td>\n",
       "      <td>0.058560</td>\n",
       "      <td>25.909425</td>\n",
       "      <td>25.900279</td>\n",
       "      <td>442.440267</td>\n",
       "    </tr>\n",
       "    <tr>\n",
       "      <th>1993-02-03</th>\n",
       "      <td>25.991749</td>\n",
       "      <td>26.247825</td>\n",
       "      <td>25.973458</td>\n",
       "      <td>26.229534</td>\n",
       "      <td>529400</td>\n",
       "      <td>0.237785</td>\n",
       "      <td>1</td>\n",
       "      <td>0.274368</td>\n",
       "      <td>0.256076</td>\n",
       "      <td>-0.018291</td>\n",
       "      <td>0.128364</td>\n",
       "      <td>26.110642</td>\n",
       "      <td>26.110642</td>\n",
       "      <td>203.410328</td>\n",
       "    </tr>\n",
       "    <tr>\n",
       "      <th>1993-02-04</th>\n",
       "      <td>26.320984</td>\n",
       "      <td>26.394149</td>\n",
       "      <td>26.028326</td>\n",
       "      <td>26.339275</td>\n",
       "      <td>531500</td>\n",
       "      <td>0.018291</td>\n",
       "      <td>1</td>\n",
       "      <td>0.365823</td>\n",
       "      <td>0.310950</td>\n",
       "      <td>-0.292659</td>\n",
       "      <td>0.142492</td>\n",
       "      <td>26.270683</td>\n",
       "      <td>26.211237</td>\n",
       "      <td>184.365824</td>\n",
       "    </tr>\n",
       "  </tbody>\n",
       "</table>\n",
       "</div>"
      ],
      "text/plain": [
       "                 Open       High        Low      Close   Volume  day_change  \\\n",
       "Date                                                                          \n",
       "1993-01-29  25.735660  25.735660  25.607622  25.717369  1003200   -0.018291   \n",
       "1993-02-01  25.735667  25.900288  25.735667  25.900288   480500    0.164620   \n",
       "1993-02-02  25.881988  25.973444  25.827114  25.955153   201300    0.073165   \n",
       "1993-02-03  25.991749  26.247825  25.973458  26.229534   529400    0.237785   \n",
       "1993-02-04  26.320984  26.394149  26.028326  26.339275   531500    0.018291   \n",
       "\n",
       "            close_label  max_magnitude_change  largest_day_gain  \\\n",
       "Date                                                              \n",
       "1993-01-29            0              0.128038          0.109747   \n",
       "1993-02-01            1              0.164620          0.164620   \n",
       "1993-02-02            1              0.146329          0.128038   \n",
       "1993-02-03            1              0.274368          0.256076   \n",
       "1993-02-04            1              0.365823          0.310950   \n",
       "\n",
       "            largest_day_loss    day_sd   day_mean  day_median          cv  \n",
       "Date                                                                       \n",
       "1993-01-29         -0.128038  0.053327  25.699078   25.671641  481.911024  \n",
       "1993-02-01          0.000000  0.082310  25.817977   25.817977  313.666667  \n",
       "1993-02-02         -0.054873  0.058560  25.909425   25.900279  442.440267  \n",
       "1993-02-03         -0.018291  0.128364  26.110642   26.110642  203.410328  \n",
       "1993-02-04         -0.292659  0.142492  26.270683   26.211237  184.365824  "
      ]
     },
     "execution_count": 47,
     "metadata": {},
     "output_type": "execute_result"
    }
   ],
   "source": [
    "sp_df.head()"
   ]
  },
  {
   "cell_type": "code",
   "execution_count": 48,
   "metadata": {},
   "outputs": [
    {
     "data": {
      "image/png": "[encoded data removed]",
      "text/plain": [
       "<Figure size 432x288 with 1 Axes>"
      ]
     },
     "metadata": {
      "needs_background": "light"
     },
     "output_type": "display_data"
    }
   ],
   "source": [
    "sp_df.rolling(window=100).day_sd.mean().plot()\n",
    "plt.show()"
   ]
  },
  {
   "cell_type": "markdown",
   "metadata": {},
   "source": [
    "# Let's try some modeling:"
   ]
  },
  {
   "cell_type": "code",
   "execution_count": 49,
   "metadata": {},
   "outputs": [],
   "source": [
    "# day_sd, max magnitude change, largest day gain/loss, cv had strongest correlations"
   ]
  },
  {
   "cell_type": "code",
   "execution_count": 50,
   "metadata": {},
   "outputs": [],
   "source": [
    "from sklearn.ensemble import RandomForestClassifier\n",
    "from sklearn.model_selection import train_test_split"
   ]
  },
  {
   "cell_type": "code",
   "execution_count": 51,
   "metadata": {},
   "outputs": [
    {
     "data": {
      "text/plain": [
       "array([0, 1, 1, ..., 1, 0, 0])"
      ]
     },
     "execution_count": 51,
     "metadata": {},
     "output_type": "execute_result"
    }
   ],
   "source": [
    "X = sp_df[['Open', 'High', 'Low', 'Close', 'max_magnitude_change', \n",
    "           'largest_day_gain', 'largest_day_loss', 'day_sd', 'cv']]\n",
    "y = sp_df[['close_label']]\n",
    "y = np.reshape(y.values, (len(X),))\n",
    "y"
   ]
  },
  {
   "cell_type": "code",
   "execution_count": 52,
   "metadata": {},
   "outputs": [],
   "source": [
    "X_train, X_test, y_train, y_test = train_test_split(X, y, test_size=0.33, random_state=42)"
   ]
  },
  {
   "cell_type": "code",
   "execution_count": 53,
   "metadata": {},
   "outputs": [],
   "source": [
    "rf_clf = RandomForestClassifier()"
   ]
  },
  {
   "cell_type": "code",
   "execution_count": 54,
   "metadata": {},
   "outputs": [
    {
     "data": {
      "text/plain": [
       "RandomForestClassifier()"
      ]
     },
     "execution_count": 54,
     "metadata": {},
     "output_type": "execute_result"
    }
   ],
   "source": [
    "rf_clf.fit(X_train, y_train)"
   ]
  },
  {
   "cell_type": "code",
   "execution_count": 55,
   "metadata": {},
   "outputs": [
    {
     "data": {
      "text/plain": [
       "array([0.01643164, 0.01418373, 0.01420811, 0.01609392, 0.06768975,\n",
       "       0.36722003, 0.40025724, 0.08185901, 0.02205657])"
      ]
     },
     "execution_count": 55,
     "metadata": {},
     "output_type": "execute_result"
    }
   ],
   "source": [
    "rf_clf.feature_importances_"
   ]
  },
  {
   "cell_type": "markdown",
   "metadata": {},
   "source": [
    "## The largest day_loss, followed by the largest_day_gain were the most import features. Followed by day_sd. The other features had almost no predictive power :("
   ]
  },
  {
   "cell_type": "code",
   "execution_count": 56,
   "metadata": {},
   "outputs": [
    {
     "data": {
      "text/plain": [
       "array([1, 0, 1, ..., 1, 0, 0])"
      ]
     },
     "execution_count": 56,
     "metadata": {},
     "output_type": "execute_result"
    }
   ],
   "source": [
    "preds = rf_clf.predict(X_test)\n",
    "preds"
   ]
  },
  {
   "cell_type": "code",
   "execution_count": 57,
   "metadata": {},
   "outputs": [
    {
     "data": {
      "text/plain": [
       "array([1, 0, 1, ..., 1, 0, 0])"
      ]
     },
     "execution_count": 57,
     "metadata": {},
     "output_type": "execute_result"
    }
   ],
   "source": [
    "y_test"
   ]
  },
  {
   "cell_type": "code",
   "execution_count": 58,
   "metadata": {},
   "outputs": [
    {
     "data": {
      "text/plain": [
       "False"
      ]
     },
     "execution_count": 58,
     "metadata": {},
     "output_type": "execute_result"
    }
   ],
   "source": [
    "np.allclose(preds, y_test)"
   ]
  },
  {
   "cell_type": "code",
   "execution_count": 59,
   "metadata": {},
   "outputs": [],
   "source": [
    "from sklearn.metrics import confusion_matrix"
   ]
  },
  {
   "cell_type": "code",
   "execution_count": 60,
   "metadata": {},
   "outputs": [
    {
     "data": {
      "text/plain": [
       "(1109, 13, 25, 1251)"
      ]
     },
     "execution_count": 60,
     "metadata": {},
     "output_type": "execute_result"
    }
   ],
   "source": [
    "tn, fp, fn, tp = confusion_matrix(y_test, preds).ravel()\n",
    "(tn, fp, fn, tp)"
   ]
  },
  {
   "cell_type": "code",
   "execution_count": 61,
   "metadata": {},
   "outputs": [],
   "source": [
    "tpr = tp/(tp+fn)\n",
    "fpr = fp/(fp+tn)"
   ]
  },
  {
   "cell_type": "code",
   "execution_count": 62,
   "metadata": {},
   "outputs": [
    {
     "data": {
      "text/plain": [
       "0.9804075235109718"
      ]
     },
     "execution_count": 62,
     "metadata": {},
     "output_type": "execute_result"
    }
   ],
   "source": [
    "tpr"
   ]
  },
  {
   "cell_type": "code",
   "execution_count": 63,
   "metadata": {},
   "outputs": [
    {
     "data": {
      "text/plain": [
       "0.011586452762923352"
      ]
     },
     "execution_count": 63,
     "metadata": {},
     "output_type": "execute_result"
    }
   ],
   "source": [
    "fpr"
   ]
  },
  {
   "cell_type": "markdown",
   "metadata": {},
   "source": [
    "## I think my model is overfitting..."
   ]
  },
  {
   "cell_type": "code",
   "execution_count": null,
   "metadata": {},
   "outputs": [],
   "source": []
  },
  {
   "cell_type": "markdown",
   "metadata": {},
   "source": [
    "# 12/1/21:\n",
    "\n",
    "# Let's try and form our baseline models. The DummyClassifier which randomly guesses the outcome with equal probability, the naive perma-bull and -bear, and the intelligent perma-bull and bear. "
   ]
  },
  {
   "cell_type": "code",
   "execution_count": 64,
   "metadata": {},
   "outputs": [
    {
     "data": {
      "text/html": [
       "<div>\n",
       "<style scoped>\n",
       "    .dataframe tbody tr th:only-of-type {\n",
       "        vertical-align: middle;\n",
       "    }\n",
       "\n",
       "    .dataframe tbody tr th {\n",
       "        vertical-align: top;\n",
       "    }\n",
       "\n",
       "    .dataframe thead th {\n",
       "        text-align: right;\n",
       "    }\n",
       "</style>\n",
       "<table border=\"1\" class=\"dataframe\">\n",
       "  <thead>\n",
       "    <tr style=\"text-align: right;\">\n",
       "      <th></th>\n",
       "      <th>Open</th>\n",
       "      <th>High</th>\n",
       "      <th>Low</th>\n",
       "      <th>Close</th>\n",
       "      <th>Volume</th>\n",
       "      <th>day_change</th>\n",
       "      <th>close_label</th>\n",
       "      <th>max_magnitude_change</th>\n",
       "      <th>largest_day_gain</th>\n",
       "      <th>largest_day_loss</th>\n",
       "      <th>day_sd</th>\n",
       "      <th>day_mean</th>\n",
       "      <th>day_median</th>\n",
       "    </tr>\n",
       "    <tr>\n",
       "      <th>Date</th>\n",
       "      <th></th>\n",
       "      <th></th>\n",
       "      <th></th>\n",
       "      <th></th>\n",
       "      <th></th>\n",
       "      <th></th>\n",
       "      <th></th>\n",
       "      <th></th>\n",
       "      <th></th>\n",
       "      <th></th>\n",
       "      <th></th>\n",
       "      <th></th>\n",
       "      <th></th>\n",
       "    </tr>\n",
       "  </thead>\n",
       "  <tbody>\n",
       "    <tr>\n",
       "      <th>1993-01-29</th>\n",
       "      <td>25.735660</td>\n",
       "      <td>25.735660</td>\n",
       "      <td>25.607622</td>\n",
       "      <td>25.717369</td>\n",
       "      <td>1003200</td>\n",
       "      <td>-0.018291</td>\n",
       "      <td>0</td>\n",
       "      <td>0.128038</td>\n",
       "      <td>0.109747</td>\n",
       "      <td>-0.128038</td>\n",
       "      <td>0.053327</td>\n",
       "      <td>25.699078</td>\n",
       "      <td>25.671641</td>\n",
       "    </tr>\n",
       "    <tr>\n",
       "      <th>1993-02-01</th>\n",
       "      <td>25.735667</td>\n",
       "      <td>25.900288</td>\n",
       "      <td>25.735667</td>\n",
       "      <td>25.900288</td>\n",
       "      <td>480500</td>\n",
       "      <td>0.164620</td>\n",
       "      <td>1</td>\n",
       "      <td>0.164620</td>\n",
       "      <td>0.164620</td>\n",
       "      <td>0.000000</td>\n",
       "      <td>0.082310</td>\n",
       "      <td>25.817977</td>\n",
       "      <td>25.817977</td>\n",
       "    </tr>\n",
       "    <tr>\n",
       "      <th>1993-02-02</th>\n",
       "      <td>25.881988</td>\n",
       "      <td>25.973444</td>\n",
       "      <td>25.827114</td>\n",
       "      <td>25.955153</td>\n",
       "      <td>201300</td>\n",
       "      <td>0.073165</td>\n",
       "      <td>1</td>\n",
       "      <td>0.146329</td>\n",
       "      <td>0.128038</td>\n",
       "      <td>-0.054873</td>\n",
       "      <td>0.058560</td>\n",
       "      <td>25.909425</td>\n",
       "      <td>25.900279</td>\n",
       "    </tr>\n",
       "    <tr>\n",
       "      <th>1993-02-03</th>\n",
       "      <td>25.991749</td>\n",
       "      <td>26.247825</td>\n",
       "      <td>25.973458</td>\n",
       "      <td>26.229534</td>\n",
       "      <td>529400</td>\n",
       "      <td>0.237785</td>\n",
       "      <td>1</td>\n",
       "      <td>0.274368</td>\n",
       "      <td>0.256076</td>\n",
       "      <td>-0.018291</td>\n",
       "      <td>0.128364</td>\n",
       "      <td>26.110642</td>\n",
       "      <td>26.110642</td>\n",
       "    </tr>\n",
       "    <tr>\n",
       "      <th>1993-02-04</th>\n",
       "      <td>26.320984</td>\n",
       "      <td>26.394149</td>\n",
       "      <td>26.028326</td>\n",
       "      <td>26.339275</td>\n",
       "      <td>531500</td>\n",
       "      <td>0.018291</td>\n",
       "      <td>1</td>\n",
       "      <td>0.365823</td>\n",
       "      <td>0.310950</td>\n",
       "      <td>-0.292659</td>\n",
       "      <td>0.142492</td>\n",
       "      <td>26.270683</td>\n",
       "      <td>26.211237</td>\n",
       "    </tr>\n",
       "    <tr>\n",
       "      <th>...</th>\n",
       "      <td>...</td>\n",
       "      <td>...</td>\n",
       "      <td>...</td>\n",
       "      <td>...</td>\n",
       "      <td>...</td>\n",
       "      <td>...</td>\n",
       "      <td>...</td>\n",
       "      <td>...</td>\n",
       "      <td>...</td>\n",
       "      <td>...</td>\n",
       "      <td>...</td>\n",
       "      <td>...</td>\n",
       "      <td>...</td>\n",
       "    </tr>\n",
       "    <tr>\n",
       "      <th>2021-11-24</th>\n",
       "      <td>466.059998</td>\n",
       "      <td>469.570007</td>\n",
       "      <td>465.190002</td>\n",
       "      <td>469.440002</td>\n",
       "      <td>61858800</td>\n",
       "      <td>3.380005</td>\n",
       "      <td>1</td>\n",
       "      <td>4.380005</td>\n",
       "      <td>4.250000</td>\n",
       "      <td>-0.869995</td>\n",
       "      <td>1.964773</td>\n",
       "      <td>467.565002</td>\n",
       "      <td>467.380005</td>\n",
       "    </tr>\n",
       "    <tr>\n",
       "      <th>2021-11-26</th>\n",
       "      <td>462.339996</td>\n",
       "      <td>463.899994</td>\n",
       "      <td>457.769989</td>\n",
       "      <td>458.970001</td>\n",
       "      <td>112669600</td>\n",
       "      <td>-3.369995</td>\n",
       "      <td>0</td>\n",
       "      <td>6.130005</td>\n",
       "      <td>1.559998</td>\n",
       "      <td>-4.929993</td>\n",
       "      <td>2.474839</td>\n",
       "      <td>460.744995</td>\n",
       "      <td>460.834991</td>\n",
       "    </tr>\n",
       "    <tr>\n",
       "      <th>2021-11-29</th>\n",
       "      <td>464.070007</td>\n",
       "      <td>466.559998</td>\n",
       "      <td>461.730011</td>\n",
       "      <td>464.600006</td>\n",
       "      <td>86268800</td>\n",
       "      <td>0.529999</td>\n",
       "      <td>1</td>\n",
       "      <td>4.829987</td>\n",
       "      <td>2.869995</td>\n",
       "      <td>-2.339996</td>\n",
       "      <td>1.720533</td>\n",
       "      <td>464.240005</td>\n",
       "      <td>464.145004</td>\n",
       "    </tr>\n",
       "    <tr>\n",
       "      <th>2021-11-30</th>\n",
       "      <td>462.000000</td>\n",
       "      <td>464.029999</td>\n",
       "      <td>455.299988</td>\n",
       "      <td>455.559998</td>\n",
       "      <td>148559600</td>\n",
       "      <td>-6.440002</td>\n",
       "      <td>0</td>\n",
       "      <td>8.730011</td>\n",
       "      <td>2.029999</td>\n",
       "      <td>-8.470001</td>\n",
       "      <td>3.860912</td>\n",
       "      <td>459.222496</td>\n",
       "      <td>459.664993</td>\n",
       "    </tr>\n",
       "    <tr>\n",
       "      <th>2021-12-01</th>\n",
       "      <td>461.640015</td>\n",
       "      <td>464.670013</td>\n",
       "      <td>450.290009</td>\n",
       "      <td>450.500000</td>\n",
       "      <td>132486146</td>\n",
       "      <td>-11.140015</td>\n",
       "      <td>0</td>\n",
       "      <td>14.380005</td>\n",
       "      <td>3.029999</td>\n",
       "      <td>-14.170013</td>\n",
       "      <td>6.469744</td>\n",
       "      <td>456.775009</td>\n",
       "      <td>457.480011</td>\n",
       "    </tr>\n",
       "  </tbody>\n",
       "</table>\n",
       "<p>7264 rows × 13 columns</p>\n",
       "</div>"
      ],
      "text/plain": [
       "                  Open        High         Low       Close     Volume  \\\n",
       "Date                                                                    \n",
       "1993-01-29   25.735660   25.735660   25.607622   25.717369    1003200   \n",
       "1993-02-01   25.735667   25.900288   25.735667   25.900288     480500   \n",
       "1993-02-02   25.881988   25.973444   25.827114   25.955153     201300   \n",
       "1993-02-03   25.991749   26.247825   25.973458   26.229534     529400   \n",
       "1993-02-04   26.320984   26.394149   26.028326   26.339275     531500   \n",
       "...                ...         ...         ...         ...        ...   \n",
       "2021-11-24  466.059998  469.570007  465.190002  469.440002   61858800   \n",
       "2021-11-26  462.339996  463.899994  457.769989  458.970001  112669600   \n",
       "2021-11-29  464.070007  466.559998  461.730011  464.600006   86268800   \n",
       "2021-11-30  462.000000  464.029999  455.299988  455.559998  148559600   \n",
       "2021-12-01  461.640015  464.670013  450.290009  450.500000  132486146   \n",
       "\n",
       "            day_change  close_label  max_magnitude_change  largest_day_gain  \\\n",
       "Date                                                                          \n",
       "1993-01-29   -0.018291            0              0.128038          0.109747   \n",
       "1993-02-01    0.164620            1              0.164620          0.164620   \n",
       "1993-02-02    0.073165            1              0.146329          0.128038   \n",
       "1993-02-03    0.237785            1              0.274368          0.256076   \n",
       "1993-02-04    0.018291            1              0.365823          0.310950   \n",
       "...                ...          ...                   ...               ...   \n",
       "2021-11-24    3.380005            1              4.380005          4.250000   \n",
       "2021-11-26   -3.369995            0              6.130005          1.559998   \n",
       "2021-11-29    0.529999            1              4.829987          2.869995   \n",
       "2021-11-30   -6.440002            0              8.730011          2.029999   \n",
       "2021-12-01  -11.140015            0             14.380005          3.029999   \n",
       "\n",
       "            largest_day_loss    day_sd    day_mean  day_median  \n",
       "Date                                                            \n",
       "1993-01-29         -0.128038  0.053327   25.699078   25.671641  \n",
       "1993-02-01          0.000000  0.082310   25.817977   25.817977  \n",
       "1993-02-02         -0.054873  0.058560   25.909425   25.900279  \n",
       "1993-02-03         -0.018291  0.128364   26.110642   26.110642  \n",
       "1993-02-04         -0.292659  0.142492   26.270683   26.211237  \n",
       "...                      ...       ...         ...         ...  \n",
       "2021-11-24         -0.869995  1.964773  467.565002  467.380005  \n",
       "2021-11-26         -4.929993  2.474839  460.744995  460.834991  \n",
       "2021-11-29         -2.339996  1.720533  464.240005  464.145004  \n",
       "2021-11-30         -8.470001  3.860912  459.222496  459.664993  \n",
       "2021-12-01        -14.170013  6.469744  456.775009  457.480011  \n",
       "\n",
       "[7264 rows x 13 columns]"
      ]
     },
     "execution_count": 64,
     "metadata": {},
     "output_type": "execute_result"
    }
   ],
   "source": [
    "res_df"
   ]
  },
  {
   "cell_type": "code",
   "execution_count": 65,
   "metadata": {},
   "outputs": [
    {
     "data": {
      "text/plain": [
       "array([0, 1, 1, ..., 1, 0, 0])"
      ]
     },
     "execution_count": 65,
     "metadata": {},
     "output_type": "execute_result"
    }
   ],
   "source": [
    "y = res_df.close_label.values\n",
    "y"
   ]
  },
  {
   "cell_type": "code",
   "execution_count": 66,
   "metadata": {},
   "outputs": [
    {
     "data": {
      "text/plain": [
       "array([[2.57356602e+01, 2.57356602e+01, 2.56076221e+01, ...,\n",
       "        5.33274331e-02, 2.56990779e+01, 2.56716412e+01],\n",
       "       [2.57356672e+01, 2.59002876e+01, 2.57356672e+01, ...,\n",
       "        8.23102361e-02, 2.58179774e+01, 2.58179774e+01],\n",
       "       [2.58819879e+01, 2.59734437e+01, 2.58271144e+01, ...,\n",
       "        5.85602770e-02, 2.59094246e+01, 2.59002790e+01],\n",
       "       ...,\n",
       "       [4.64070007e+02, 4.66559998e+02, 4.61730011e+02, ...,\n",
       "        1.72053302e+00, 4.64240005e+02, 4.64145004e+02],\n",
       "       [4.62000000e+02, 4.64029999e+02, 4.55299988e+02, ...,\n",
       "        3.86091236e+00, 4.59222496e+02, 4.59664993e+02],\n",
       "       [4.61640015e+02, 4.64670013e+02, 4.50290009e+02, ...,\n",
       "        6.46974388e+00, 4.56775009e+02, 4.57480011e+02]])"
      ]
     },
     "execution_count": 66,
     "metadata": {},
     "output_type": "execute_result"
    }
   ],
   "source": [
    "X = res_df.drop(columns='close_label').values\n",
    "X"
   ]
  },
  {
   "cell_type": "code",
   "execution_count": 67,
   "metadata": {},
   "outputs": [],
   "source": [
    "#%%time\n",
    "#sns.pairplot(data=res_df.drop(columns='close_label'))\n",
    "#plt.show()"
   ]
  },
  {
   "cell_type": "code",
   "execution_count": 68,
   "metadata": {},
   "outputs": [
    {
     "data": {
      "text/plain": [
       "array([[7.39034002e-04, 5.71503035e-04, 1.23744592e-03, ...,\n",
       "        4.61475339e-03, 6.27634918e-04, 6.37025516e-04],\n",
       "       [7.39049531e-04, 9.38925337e-04, 1.52619909e-03, ...,\n",
       "        7.94523453e-03, 8.95175030e-04, 9.65828903e-04],\n",
       "       [1.06750322e-03, 1.10219805e-03, 1.73242095e-03, ...,\n",
       "        5.21607162e-03, 1.10094383e-03, 1.15075279e-03],\n",
       "       ...,\n",
       "       [9.84690777e-01, 9.84421719e-01, 9.84733060e-01, ...,\n",
       "        1.96197215e-01, 9.87404849e-01, 9.85844499e-01],\n",
       "       [9.80044125e-01, 9.78775162e-01, 9.70232773e-01, ...,\n",
       "        4.42153172e-01, 9.76114765e-01, 9.75778345e-01],\n",
       "       [9.79236047e-01, 9.80203573e-01, 9.58934815e-01, ...,\n",
       "        7.41940056e-01, 9.70607584e-01, 9.70868900e-01]])"
      ]
     },
     "execution_count": 68,
     "metadata": {},
     "output_type": "execute_result"
    }
   ],
   "source": [
    "# lets scale the data\n",
    "# it doesn't look like we have any standard guassians, so we should use\n",
    "# max min scsler rather than the standard scaler\n",
    "from sklearn.preprocessing import MinMaxScaler\n",
    "scaler = MinMaxScaler()\n",
    "X_scaled = scaler.fit_transform(X)\n",
    "X_scaled"
   ]
  },
  {
   "cell_type": "code",
   "execution_count": 69,
   "metadata": {},
   "outputs": [],
   "source": [
    "# form train test split\n",
    "from sklearn.model_selection import train_test_split\n",
    "X_train, X_test, y_train, y_test = train_test_split(X_scaled, y, \n",
    "test_size=0.33, random_state=42)"
   ]
  },
  {
   "cell_type": "code",
   "execution_count": 73,
   "metadata": {},
   "outputs": [
    {
     "data": {
      "image/png": "[encoded data removed]",
      "text/plain": [
       "<Figure size 432x288 with 1 Axes>"
      ]
     },
     "metadata": {
      "needs_background": "light"
     },
     "output_type": "display_data"
    }
   ],
   "source": [
    "plt.hist(res_df.close_label.values)\n",
    "plt.title('Dsitribution of Target')\n",
    "plt.show()"
   ]
  },
  {
   "cell_type": "markdown",
   "metadata": {},
   "source": [
    "Seems fairly balanced with slight lean towards positive closes. This is expected as markets tend to move upwards on average"
   ]
  },
  {
   "cell_type": "code",
   "execution_count": 70,
   "metadata": {},
   "outputs": [],
   "source": [
    "from sklearn.dummy import DummyClassifier"
   ]
  },
  {
   "cell_type": "code",
   "execution_count": 81,
   "metadata": {},
   "outputs": [
    {
     "name": "stdout",
     "output_type": "stream",
     "text": [
      "[0 1 0 ... 1 1 0]\n",
      "0.4845704753961635\n"
     ]
    }
   ],
   "source": [
    "# create one of 4 baseline models, the so called \"random guesser\"\n",
    "# This agent will randomly guess market outcomes with equal probability\n",
    "# I.e: votes in favor of \"Green\" or positive close vs \"Red\" or negative close, # both with equal probability, p=0.5\n",
    "random_guesser = DummyClassifier(strategy='uniform', random_state=42)\n",
    "random_guesser.fit(X_train, y_train)\n",
    "print(random_guesser.predict(X_test))\n",
    "print(random_guesser.score(X_test, y_test))"
   ]
  },
  {
   "cell_type": "code",
   "execution_count": 82,
   "metadata": {},
   "outputs": [
    {
     "name": "stdout",
     "output_type": "stream",
     "text": [
      "[1 1 1 ... 1 1 1]\n",
      "0.5321100917431193\n"
     ]
    }
   ],
   "source": [
    "# first pass at this\n",
    "# given classes are fairly balanced, I don't think this will perform\n",
    "# as well as I think it could if we develop it futher\n",
    "# (I was expecting a slightly larger class imbalance towards class 1)\n",
    "intelligent_perma_bull = DummyClassifier(strategy='most_frequent', random_state=42)\n",
    "intelligent_perma_bull.fit(X_train, y_train)\n",
    "print(intelligent_perma_bull.predict(X_test))\n",
    "print(intelligent_perma_bull.score(X_test, y_test))"
   ]
  },
  {
   "cell_type": "markdown",
   "metadata": {},
   "source": [
    "### So our intelligent perma bull performs better than our random guesser (of equal probability). \n",
    "### This is a good start and we have a 53% (so more than 50%) chance of predicting the correct outcome!"
   ]
  },
  {
   "cell_type": "code",
   "execution_count": 77,
   "metadata": {},
   "outputs": [],
   "source": [
    "#intelligent_perma_bear = ~intelligent_perma_bull.preds # invert predictions"
   ]
  },
  {
   "cell_type": "code",
   "execution_count": 83,
   "metadata": {},
   "outputs": [
    {
     "name": "stdout",
     "output_type": "stream",
     "text": [
      "[1 1 1 ... 1 1 1]\n",
      "0.5321100917431193\n"
     ]
    }
   ],
   "source": [
    "perma_bull = DummyClassifier(strategy='constant', constant=1)\n",
    "perma_bull.fit(X_train, y_train)\n",
    "print(perma_bull.predict(X_test))\n",
    "print(perma_bull.score(X_test, y_test))"
   ]
  },
  {
   "cell_type": "markdown",
   "metadata": {},
   "source": [
    "## I find it hard to believe we would gat he EXACT same score... something is wrong\n",
    "\n",
    "# OK so strategy='most_frequent' means it ALWAYS votes in favor of most prevalent class. Hence the same scores.\n",
    "\n",
    "## TODO: figure out how to properly make an intelligent perma bull model which *usually* votes in favor of the most recent class."
   ]
  },
  {
   "cell_type": "code",
   "execution_count": 84,
   "metadata": {},
   "outputs": [
    {
     "name": "stdout",
     "output_type": "stream",
     "text": [
      "[0 0 0 ... 0 0 0]\n",
      "0.46788990825688076\n"
     ]
    }
   ],
   "source": [
    "perma_bear = DummyClassifier(strategy='constant', constant=0)\n",
    "perma_bear.fit(X_train, y_train)\n",
    "print(perma_bear.predict(X_test))\n",
    "print(perma_bear.score(X_test, y_test))"
   ]
  },
  {
   "cell_type": "markdown",
   "metadata": {},
   "source": [
    "## So far we have shown that being permnanetly bearish will lead to worst performance in terms of market close predictions.\n",
    "## Randomly guessing is the next best. I'm surprised it is not closer to 50%? Maybe I have also misinterpreted how strategy'uniform' works. \n",
    "\n",
    "\n",
    "## Finally, our best baseline model, the perma-bull ahhieves a mean accuracy of 53%, which is at least better than flipping a fair coin (theoretically speaking).\n",
    "\n",
    "# We think we can do better than this. IN particular, we need to improve (?) the random_guesser model, and properly develop the intelligent perma bull (and bear) models, which *usually* but not always vote in favor of the most prevalent class (and in the case of the bearish version, predicts the inverse class). Hint hint: exploitation-exploration paradigm from Reinforcement Learning and epsilong-greed search.\n",
    "\n",
    "# Apart from building things like Logistic Regression , Random Forest, SVM, SGD, and KNN Classifiers, I would love to see you experiment with multi-armed bandits, etc.\n",
    "\n",
    "Thus, apart from having trading strategies/routines (which may be rule-based and domain_informed), we'll have trading models, and finally can build proper trading bots which may employ some of these strategis and learn over time from their experience (failures and successes) in order to optimize performance."
   ]
  },
  {
   "cell_type": "code",
   "execution_count": 72,
   "metadata": {},
   "outputs": [],
   "source": [
    "from sklearn.metrics import confusion_matrix\n"
   ]
  }
 ],
 "metadata": {
  "interpreter": {
   "hash": "90a19a95e392c66cc583254651318b1512c0d7f96529831af9b50dd1bb4c7d0d"
  },
  "kernelspec": {
   "display_name": "Python 3.8.1 64-bit ('algoTrading': conda)",
   "name": "python3"
  },
  "language_info": {
   "codemirror_mode": {
    "name": "ipython",
    "version": 3
   },
   "file_extension": ".py",
   "mimetype": "text/x-python",
   "name": "python",
   "nbconvert_exporter": "python",
   "pygments_lexer": "ipython3",
   "version": "3.8.1"
  }
 },
 "nbformat": 4,
 "nbformat_minor": 2
}
