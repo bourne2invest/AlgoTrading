{
 "cells": [
  {
   "cell_type": "markdown",
   "metadata": {},
   "source": [
    "# The purpose of this notebook is to build a binary classifier which will predict if the markets (S&P500) will close 'Green' or 'Red'."
   ]
  },
  {
   "cell_type": "code",
   "execution_count": 1,
   "metadata": {},
   "outputs": [],
   "source": [
    "import numpy as np\n",
    "import matplotlib.pyplot as plt\n",
    "import pandas as pd"
   ]
  },
  {
   "cell_type": "code",
   "execution_count": 2,
   "metadata": {},
   "outputs": [],
   "source": [
    "import sklearn\n",
    "import yfinance as yf"
   ]
  },
  {
   "cell_type": "markdown",
   "metadata": {},
   "source": [
    "## Load Data"
   ]
  },
  {
   "cell_type": "code",
   "execution_count": 3,
   "metadata": {},
   "outputs": [],
   "source": [
    "sp = yf.Ticker('SPY')"
   ]
  },
  {
   "cell_type": "code",
   "execution_count": 4,
   "metadata": {},
   "outputs": [
    {
     "data": {
      "text/html": [
       "<div>\n",
       "<style scoped>\n",
       "    .dataframe tbody tr th:only-of-type {\n",
       "        vertical-align: middle;\n",
       "    }\n",
       "\n",
       "    .dataframe tbody tr th {\n",
       "        vertical-align: top;\n",
       "    }\n",
       "\n",
       "    .dataframe thead th {\n",
       "        text-align: right;\n",
       "    }\n",
       "</style>\n",
       "<table border=\"1\" class=\"dataframe\">\n",
       "  <thead>\n",
       "    <tr style=\"text-align: right;\">\n",
       "      <th></th>\n",
       "      <th>Open</th>\n",
       "      <th>High</th>\n",
       "      <th>Low</th>\n",
       "      <th>Close</th>\n",
       "      <th>Volume</th>\n",
       "      <th>Dividends</th>\n",
       "      <th>Stock Splits</th>\n",
       "    </tr>\n",
       "    <tr>\n",
       "      <th>Date</th>\n",
       "      <th></th>\n",
       "      <th></th>\n",
       "      <th></th>\n",
       "      <th></th>\n",
       "      <th></th>\n",
       "      <th></th>\n",
       "      <th></th>\n",
       "    </tr>\n",
       "  </thead>\n",
       "  <tbody>\n",
       "    <tr>\n",
       "      <th>1993-01-29</th>\n",
       "      <td>26.32</td>\n",
       "      <td>26.32</td>\n",
       "      <td>26.19</td>\n",
       "      <td>26.30</td>\n",
       "      <td>1003200</td>\n",
       "      <td>0.0</td>\n",
       "      <td>0</td>\n",
       "    </tr>\n",
       "    <tr>\n",
       "      <th>1993-02-01</th>\n",
       "      <td>26.32</td>\n",
       "      <td>26.49</td>\n",
       "      <td>26.32</td>\n",
       "      <td>26.49</td>\n",
       "      <td>480500</td>\n",
       "      <td>0.0</td>\n",
       "      <td>0</td>\n",
       "    </tr>\n",
       "    <tr>\n",
       "      <th>1993-02-02</th>\n",
       "      <td>26.47</td>\n",
       "      <td>26.56</td>\n",
       "      <td>26.41</td>\n",
       "      <td>26.54</td>\n",
       "      <td>201300</td>\n",
       "      <td>0.0</td>\n",
       "      <td>0</td>\n",
       "    </tr>\n",
       "    <tr>\n",
       "      <th>1993-02-03</th>\n",
       "      <td>26.58</td>\n",
       "      <td>26.84</td>\n",
       "      <td>26.56</td>\n",
       "      <td>26.82</td>\n",
       "      <td>529400</td>\n",
       "      <td>0.0</td>\n",
       "      <td>0</td>\n",
       "    </tr>\n",
       "    <tr>\n",
       "      <th>1993-02-04</th>\n",
       "      <td>26.92</td>\n",
       "      <td>26.99</td>\n",
       "      <td>26.62</td>\n",
       "      <td>26.94</td>\n",
       "      <td>531500</td>\n",
       "      <td>0.0</td>\n",
       "      <td>0</td>\n",
       "    </tr>\n",
       "  </tbody>\n",
       "</table>\n",
       "</div>"
      ],
      "text/plain": [
       "             Open   High    Low  Close   Volume  Dividends  Stock Splits\n",
       "Date                                                                    \n",
       "1993-01-29  26.32  26.32  26.19  26.30  1003200        0.0             0\n",
       "1993-02-01  26.32  26.49  26.32  26.49   480500        0.0             0\n",
       "1993-02-02  26.47  26.56  26.41  26.54   201300        0.0             0\n",
       "1993-02-03  26.58  26.84  26.56  26.82   529400        0.0             0\n",
       "1993-02-04  26.92  26.99  26.62  26.94   531500        0.0             0"
      ]
     },
     "execution_count": 4,
     "metadata": {},
     "output_type": "execute_result"
    }
   ],
   "source": [
    "sp_df = sp.history(period='max')\n",
    "sp_df.head()"
   ]
  },
  {
   "cell_type": "markdown",
   "metadata": {},
   "source": [
    "# EDA:"
   ]
  },
  {
   "cell_type": "code",
   "execution_count": 5,
   "metadata": {},
   "outputs": [
    {
     "data": {
      "image/png": "[encoded data removed]",
      "text/plain": [
       "<Figure size 432x288 with 1 Axes>"
      ]
     },
     "metadata": {
      "needs_background": "light"
     },
     "output_type": "display_data"
    }
   ],
   "source": [
    "sp_df.Open.hist(bins=100)\n",
    "plt.show()"
   ]
  },
  {
   "cell_type": "code",
   "execution_count": 6,
   "metadata": {},
   "outputs": [
    {
     "data": {
      "image/png": "[encoded data removed]",
      "text/plain": [
       "<Figure size 432x288 with 1 Axes>"
      ]
     },
     "metadata": {
      "needs_background": "light"
     },
     "output_type": "display_data"
    }
   ],
   "source": [
    "sp_df.Close.hist(bins=100)\n",
    "plt.show()"
   ]
  },
  {
   "cell_type": "code",
   "execution_count": 7,
   "metadata": {},
   "outputs": [
    {
     "data": {
      "image/png": "[encoded data removed]",
      "text/plain": [
       "<Figure size 432x288 with 1 Axes>"
      ]
     },
     "metadata": {
      "needs_background": "light"
     },
     "output_type": "display_data"
    }
   ],
   "source": [
    "sp_df.Volume.hist(bins=100)\n",
    "plt.show()"
   ]
  },
  {
   "cell_type": "markdown",
   "metadata": {},
   "source": [
    "### What do days with 0 Volume correspond to?"
   ]
  },
  {
   "cell_type": "code",
   "execution_count": 8,
   "metadata": {},
   "outputs": [
    {
     "data": {
      "text/plain": [
       "5200"
      ]
     },
     "execution_count": 8,
     "metadata": {},
     "output_type": "execute_result"
    }
   ],
   "source": [
    "sp_df.Volume.min()"
   ]
  },
  {
   "cell_type": "code",
   "execution_count": 9,
   "metadata": {},
   "outputs": [
    {
     "data": {
      "text/plain": [
       "(25.98, 25.98)"
      ]
     },
     "execution_count": 9,
     "metadata": {},
     "output_type": "execute_result"
    }
   ],
   "source": [
    "sp_df.Open.min(), sp_df.Close.min()"
   ]
  },
  {
   "cell_type": "markdown",
   "metadata": {},
   "source": [
    "# Preprocessing"
   ]
  },
  {
   "cell_type": "code",
   "execution_count": 10,
   "metadata": {},
   "outputs": [
    {
     "name": "stdout",
     "output_type": "stream",
     "text": [
      "[0]\n"
     ]
    },
    {
     "data": {
      "text/plain": [
       "array([0.   , 0.213, 0.318, 0.286, 0.317, 0.271, 0.305, 0.288, 0.363,\n",
       "       0.268, 0.316, 0.312, 0.382, 0.285, 0.351, 0.352, 0.367, 0.299,\n",
       "       0.35 , 0.348, 0.38 , 0.313, 0.359, 0.392, 0.32 , 0.405, 0.372,\n",
       "       0.371, 0.375, 0.411, 0.346, 0.369, 0.393, 0.331, 0.353, 0.378,\n",
       "       0.436, 0.354, 0.36 , 0.4  , 0.516, 0.395, 0.414, 0.469, 0.568,\n",
       "       0.467, 0.488, 0.522, 0.672, 0.519, 0.555, 0.579, 0.793, 0.551,\n",
       "       0.656, 0.719, 0.775, 0.642, 0.669, 0.691, 0.561, 0.518, 0.508,\n",
       "       0.59 , 0.48 , 0.531, 0.602, 0.653, 0.553, 0.628, 0.625, 0.77 ,\n",
       "       0.614, 0.688, 0.779, 1.022, 0.694, 0.839, 0.838, 0.98 , 0.825,\n",
       "       0.937, 0.939, 1.135, 0.931, 1.03 , 1.033, 1.212, 1.05 , 1.078,\n",
       "       1.082, 1.329, 1.183, 1.235, 1.351, 1.097, 1.246, 1.323, 1.435,\n",
       "       1.233, 1.432, 1.384, 1.57 , 1.406])"
      ]
     },
     "execution_count": 10,
     "metadata": {},
     "output_type": "execute_result"
    }
   ],
   "source": [
    "print(sp_df['Stock Splits'].unique())\n",
    "sp_df.Dividends.unique()"
   ]
  },
  {
   "cell_type": "code",
   "execution_count": 11,
   "metadata": {},
   "outputs": [
    {
     "data": {
      "text/html": [
       "<div>\n",
       "<style scoped>\n",
       "    .dataframe tbody tr th:only-of-type {\n",
       "        vertical-align: middle;\n",
       "    }\n",
       "\n",
       "    .dataframe tbody tr th {\n",
       "        vertical-align: top;\n",
       "    }\n",
       "\n",
       "    .dataframe thead th {\n",
       "        text-align: right;\n",
       "    }\n",
       "</style>\n",
       "<table border=\"1\" class=\"dataframe\">\n",
       "  <thead>\n",
       "    <tr style=\"text-align: right;\">\n",
       "      <th></th>\n",
       "      <th>Open</th>\n",
       "      <th>High</th>\n",
       "      <th>Low</th>\n",
       "      <th>Close</th>\n",
       "      <th>Volume</th>\n",
       "    </tr>\n",
       "    <tr>\n",
       "      <th>Date</th>\n",
       "      <th></th>\n",
       "      <th></th>\n",
       "      <th></th>\n",
       "      <th></th>\n",
       "      <th></th>\n",
       "    </tr>\n",
       "  </thead>\n",
       "  <tbody>\n",
       "    <tr>\n",
       "      <th>1993-01-29</th>\n",
       "      <td>26.32</td>\n",
       "      <td>26.32</td>\n",
       "      <td>26.19</td>\n",
       "      <td>26.30</td>\n",
       "      <td>1003200</td>\n",
       "    </tr>\n",
       "    <tr>\n",
       "      <th>1993-02-01</th>\n",
       "      <td>26.32</td>\n",
       "      <td>26.49</td>\n",
       "      <td>26.32</td>\n",
       "      <td>26.49</td>\n",
       "      <td>480500</td>\n",
       "    </tr>\n",
       "    <tr>\n",
       "      <th>1993-02-02</th>\n",
       "      <td>26.47</td>\n",
       "      <td>26.56</td>\n",
       "      <td>26.41</td>\n",
       "      <td>26.54</td>\n",
       "      <td>201300</td>\n",
       "    </tr>\n",
       "    <tr>\n",
       "      <th>1993-02-03</th>\n",
       "      <td>26.58</td>\n",
       "      <td>26.84</td>\n",
       "      <td>26.56</td>\n",
       "      <td>26.82</td>\n",
       "      <td>529400</td>\n",
       "    </tr>\n",
       "    <tr>\n",
       "      <th>1993-02-04</th>\n",
       "      <td>26.92</td>\n",
       "      <td>26.99</td>\n",
       "      <td>26.62</td>\n",
       "      <td>26.94</td>\n",
       "      <td>531500</td>\n",
       "    </tr>\n",
       "  </tbody>\n",
       "</table>\n",
       "</div>"
      ],
      "text/plain": [
       "             Open   High    Low  Close   Volume\n",
       "Date                                           \n",
       "1993-01-29  26.32  26.32  26.19  26.30  1003200\n",
       "1993-02-01  26.32  26.49  26.32  26.49   480500\n",
       "1993-02-02  26.47  26.56  26.41  26.54   201300\n",
       "1993-02-03  26.58  26.84  26.56  26.82   529400\n",
       "1993-02-04  26.92  26.99  26.62  26.94   531500"
      ]
     },
     "execution_count": 11,
     "metadata": {},
     "output_type": "execute_result"
    }
   ],
   "source": [
    "sp_df = sp_df.drop(columns=['Stock Splits','Dividends'])\n",
    "sp_df.head()"
   ]
  },
  {
   "cell_type": "markdown",
   "metadata": {},
   "source": [
    "# Feature Engineering:"
   ]
  },
  {
   "cell_type": "code",
   "execution_count": 12,
   "metadata": {},
   "outputs": [
    {
     "data": {
      "text/html": [
       "<div>\n",
       "<style scoped>\n",
       "    .dataframe tbody tr th:only-of-type {\n",
       "        vertical-align: middle;\n",
       "    }\n",
       "\n",
       "    .dataframe tbody tr th {\n",
       "        vertical-align: top;\n",
       "    }\n",
       "\n",
       "    .dataframe thead th {\n",
       "        text-align: right;\n",
       "    }\n",
       "</style>\n",
       "<table border=\"1\" class=\"dataframe\">\n",
       "  <thead>\n",
       "    <tr style=\"text-align: right;\">\n",
       "      <th></th>\n",
       "      <th>Open</th>\n",
       "      <th>High</th>\n",
       "      <th>Low</th>\n",
       "      <th>Close</th>\n",
       "      <th>Volume</th>\n",
       "      <th>day_change</th>\n",
       "    </tr>\n",
       "    <tr>\n",
       "      <th>Date</th>\n",
       "      <th></th>\n",
       "      <th></th>\n",
       "      <th></th>\n",
       "      <th></th>\n",
       "      <th></th>\n",
       "      <th></th>\n",
       "    </tr>\n",
       "  </thead>\n",
       "  <tbody>\n",
       "    <tr>\n",
       "      <th>1993-01-29</th>\n",
       "      <td>26.32</td>\n",
       "      <td>26.32</td>\n",
       "      <td>26.19</td>\n",
       "      <td>26.30</td>\n",
       "      <td>1003200</td>\n",
       "      <td>-0.02</td>\n",
       "    </tr>\n",
       "    <tr>\n",
       "      <th>1993-02-01</th>\n",
       "      <td>26.32</td>\n",
       "      <td>26.49</td>\n",
       "      <td>26.32</td>\n",
       "      <td>26.49</td>\n",
       "      <td>480500</td>\n",
       "      <td>0.17</td>\n",
       "    </tr>\n",
       "    <tr>\n",
       "      <th>1993-02-02</th>\n",
       "      <td>26.47</td>\n",
       "      <td>26.56</td>\n",
       "      <td>26.41</td>\n",
       "      <td>26.54</td>\n",
       "      <td>201300</td>\n",
       "      <td>0.07</td>\n",
       "    </tr>\n",
       "    <tr>\n",
       "      <th>1993-02-03</th>\n",
       "      <td>26.58</td>\n",
       "      <td>26.84</td>\n",
       "      <td>26.56</td>\n",
       "      <td>26.82</td>\n",
       "      <td>529400</td>\n",
       "      <td>0.24</td>\n",
       "    </tr>\n",
       "    <tr>\n",
       "      <th>1993-02-04</th>\n",
       "      <td>26.92</td>\n",
       "      <td>26.99</td>\n",
       "      <td>26.62</td>\n",
       "      <td>26.94</td>\n",
       "      <td>531500</td>\n",
       "      <td>0.02</td>\n",
       "    </tr>\n",
       "  </tbody>\n",
       "</table>\n",
       "</div>"
      ],
      "text/plain": [
       "             Open   High    Low  Close   Volume  day_change\n",
       "Date                                                       \n",
       "1993-01-29  26.32  26.32  26.19  26.30  1003200       -0.02\n",
       "1993-02-01  26.32  26.49  26.32  26.49   480500        0.17\n",
       "1993-02-02  26.47  26.56  26.41  26.54   201300        0.07\n",
       "1993-02-03  26.58  26.84  26.56  26.82   529400        0.24\n",
       "1993-02-04  26.92  26.99  26.62  26.94   531500        0.02"
      ]
     },
     "execution_count": 12,
     "metadata": {},
     "output_type": "execute_result"
    }
   ],
   "source": [
    "sp_df['day_change'] = sp_df.Close - sp_df.Open\n",
    "sp_df.head()"
   ]
  },
  {
   "cell_type": "code",
   "execution_count": 42,
   "metadata": {},
   "outputs": [
    {
     "data": {
      "text/html": [
       "<div>\n",
       "<style scoped>\n",
       "    .dataframe tbody tr th:only-of-type {\n",
       "        vertical-align: middle;\n",
       "    }\n",
       "\n",
       "    .dataframe tbody tr th {\n",
       "        vertical-align: top;\n",
       "    }\n",
       "\n",
       "    .dataframe thead th {\n",
       "        text-align: right;\n",
       "    }\n",
       "</style>\n",
       "<table border=\"1\" class=\"dataframe\">\n",
       "  <thead>\n",
       "    <tr style=\"text-align: right;\">\n",
       "      <th></th>\n",
       "      <th>Open</th>\n",
       "      <th>High</th>\n",
       "      <th>Low</th>\n",
       "      <th>Close</th>\n",
       "      <th>Volume</th>\n",
       "      <th>day_change</th>\n",
       "      <th>close_label</th>\n",
       "      <th>max_magnitude_change</th>\n",
       "      <th>largest_day_gain</th>\n",
       "      <th>largest_day_loss</th>\n",
       "      <th>day_sd</th>\n",
       "      <th>day_mean</th>\n",
       "      <th>cv</th>\n",
       "      <th>day_median</th>\n",
       "    </tr>\n",
       "    <tr>\n",
       "      <th>Date</th>\n",
       "      <th></th>\n",
       "      <th></th>\n",
       "      <th></th>\n",
       "      <th></th>\n",
       "      <th></th>\n",
       "      <th></th>\n",
       "      <th></th>\n",
       "      <th></th>\n",
       "      <th></th>\n",
       "      <th></th>\n",
       "      <th></th>\n",
       "      <th></th>\n",
       "      <th></th>\n",
       "      <th></th>\n",
       "    </tr>\n",
       "  </thead>\n",
       "  <tbody>\n",
       "    <tr>\n",
       "      <th>2020-03-26</th>\n",
       "      <td>249.52</td>\n",
       "      <td>262.80</td>\n",
       "      <td>249.05</td>\n",
       "      <td>261.20</td>\n",
       "      <td>257632800</td>\n",
       "      <td>11.68</td>\n",
       "      <td>1</td>\n",
       "      <td>13.75</td>\n",
       "      <td>13.28</td>\n",
       "      <td>-1.60</td>\n",
       "      <td>6.384780</td>\n",
       "      <td>255.6425</td>\n",
       "      <td>40.039358</td>\n",
       "      <td>255.925</td>\n",
       "    </tr>\n",
       "    <tr>\n",
       "      <th>2020-03-27</th>\n",
       "      <td>253.27</td>\n",
       "      <td>260.81</td>\n",
       "      <td>251.05</td>\n",
       "      <td>253.42</td>\n",
       "      <td>224341200</td>\n",
       "      <td>0.15</td>\n",
       "      <td>1</td>\n",
       "      <td>9.76</td>\n",
       "      <td>7.54</td>\n",
       "      <td>-7.39</td>\n",
       "      <td>3.685182</td>\n",
       "      <td>254.6375</td>\n",
       "      <td>69.097667</td>\n",
       "      <td>255.930</td>\n",
       "    </tr>\n",
       "    <tr>\n",
       "      <th>2020-03-30</th>\n",
       "      <td>255.70</td>\n",
       "      <td>262.43</td>\n",
       "      <td>253.53</td>\n",
       "      <td>261.65</td>\n",
       "      <td>171369500</td>\n",
       "      <td>5.95</td>\n",
       "      <td>1</td>\n",
       "      <td>8.90</td>\n",
       "      <td>8.12</td>\n",
       "      <td>-2.17</td>\n",
       "      <td>3.800963</td>\n",
       "      <td>258.3275</td>\n",
       "      <td>67.963700</td>\n",
       "      <td>257.980</td>\n",
       "    </tr>\n",
       "    <tr>\n",
       "      <th>2020-03-31</th>\n",
       "      <td>260.56</td>\n",
       "      <td>263.33</td>\n",
       "      <td>256.22</td>\n",
       "      <td>257.75</td>\n",
       "      <td>194881100</td>\n",
       "      <td>-2.81</td>\n",
       "      <td>0</td>\n",
       "      <td>7.11</td>\n",
       "      <td>2.77</td>\n",
       "      <td>-5.58</td>\n",
       "      <td>2.720685</td>\n",
       "      <td>259.4650</td>\n",
       "      <td>95.367539</td>\n",
       "      <td>259.775</td>\n",
       "    </tr>\n",
       "    <tr>\n",
       "      <th>2020-04-01</th>\n",
       "      <td>247.98</td>\n",
       "      <td>257.66</td>\n",
       "      <td>243.90</td>\n",
       "      <td>246.15</td>\n",
       "      <td>188601200</td>\n",
       "      <td>-1.83</td>\n",
       "      <td>0</td>\n",
       "      <td>13.76</td>\n",
       "      <td>9.68</td>\n",
       "      <td>-11.51</td>\n",
       "      <td>5.247487</td>\n",
       "      <td>248.9225</td>\n",
       "      <td>47.436517</td>\n",
       "      <td>250.780</td>\n",
       "    </tr>\n",
       "  </tbody>\n",
       "</table>\n",
       "</div>"
      ],
      "text/plain": [
       "              Open    High     Low   Close     Volume  day_change  \\\n",
       "Date                                                                \n",
       "2020-03-26  249.52  262.80  249.05  261.20  257632800       11.68   \n",
       "2020-03-27  253.27  260.81  251.05  253.42  224341200        0.15   \n",
       "2020-03-30  255.70  262.43  253.53  261.65  171369500        5.95   \n",
       "2020-03-31  260.56  263.33  256.22  257.75  194881100       -2.81   \n",
       "2020-04-01  247.98  257.66  243.90  246.15  188601200       -1.83   \n",
       "\n",
       "            close_label  max_magnitude_change  largest_day_gain  \\\n",
       "Date                                                              \n",
       "2020-03-26            1                 13.75             13.28   \n",
       "2020-03-27            1                  9.76              7.54   \n",
       "2020-03-30            1                  8.90              8.12   \n",
       "2020-03-31            0                  7.11              2.77   \n",
       "2020-04-01            0                 13.76              9.68   \n",
       "\n",
       "            largest_day_loss    day_sd  day_mean         cv  day_median  \n",
       "Date                                                                     \n",
       "2020-03-26             -1.60  6.384780  255.6425  40.039358     255.925  \n",
       "2020-03-27             -7.39  3.685182  254.6375  69.097667     255.930  \n",
       "2020-03-30             -2.17  3.800963  258.3275  67.963700     257.980  \n",
       "2020-03-31             -5.58  2.720685  259.4650  95.367539     259.775  \n",
       "2020-04-01            -11.51  5.247487  248.9225  47.436517     250.780  "
      ]
     },
     "execution_count": 42,
     "metadata": {},
     "output_type": "execute_result"
    }
   ],
   "source": [
    "sp_df['close_label'] = sp_df.day_change.apply(lambda x: 1 if x > 0 else 0) # 'Green' == 1\n",
    "sp_df.tail()"
   ]
  },
  {
   "cell_type": "markdown",
   "metadata": {},
   "source": [
    "### close_label is our target. Given a sequence of days x1,...,xN we want to predict close_label on day xN+1."
   ]
  },
  {
   "cell_type": "code",
   "execution_count": 41,
   "metadata": {},
   "outputs": [
    {
     "data": {
      "image/png": "[encoded data removed]",
      "text/plain": [
       "<Figure size 432x288 with 1 Axes>"
      ]
     },
     "metadata": {
      "needs_background": "light"
     },
     "output_type": "display_data"
    }
   ],
   "source": [
    "sp_df.close_label[-30:-1].plot()\n",
    "plt.show()"
   ]
  },
  {
   "cell_type": "code",
   "execution_count": 15,
   "metadata": {},
   "outputs": [
    {
     "data": {
      "text/html": [
       "<div>\n",
       "<style scoped>\n",
       "    .dataframe tbody tr th:only-of-type {\n",
       "        vertical-align: middle;\n",
       "    }\n",
       "\n",
       "    .dataframe tbody tr th {\n",
       "        vertical-align: top;\n",
       "    }\n",
       "\n",
       "    .dataframe thead th {\n",
       "        text-align: right;\n",
       "    }\n",
       "</style>\n",
       "<table border=\"1\" class=\"dataframe\">\n",
       "  <thead>\n",
       "    <tr style=\"text-align: right;\">\n",
       "      <th></th>\n",
       "      <th>Open</th>\n",
       "      <th>High</th>\n",
       "      <th>Low</th>\n",
       "      <th>Close</th>\n",
       "      <th>Volume</th>\n",
       "      <th>day_change</th>\n",
       "      <th>close_label</th>\n",
       "      <th>max_magnitude_change</th>\n",
       "    </tr>\n",
       "    <tr>\n",
       "      <th>Date</th>\n",
       "      <th></th>\n",
       "      <th></th>\n",
       "      <th></th>\n",
       "      <th></th>\n",
       "      <th></th>\n",
       "      <th></th>\n",
       "      <th></th>\n",
       "      <th></th>\n",
       "    </tr>\n",
       "  </thead>\n",
       "  <tbody>\n",
       "    <tr>\n",
       "      <th>1993-01-29</th>\n",
       "      <td>26.32</td>\n",
       "      <td>26.32</td>\n",
       "      <td>26.19</td>\n",
       "      <td>26.30</td>\n",
       "      <td>1003200</td>\n",
       "      <td>-0.02</td>\n",
       "      <td>0</td>\n",
       "      <td>0.13</td>\n",
       "    </tr>\n",
       "    <tr>\n",
       "      <th>1993-02-01</th>\n",
       "      <td>26.32</td>\n",
       "      <td>26.49</td>\n",
       "      <td>26.32</td>\n",
       "      <td>26.49</td>\n",
       "      <td>480500</td>\n",
       "      <td>0.17</td>\n",
       "      <td>1</td>\n",
       "      <td>0.17</td>\n",
       "    </tr>\n",
       "    <tr>\n",
       "      <th>1993-02-02</th>\n",
       "      <td>26.47</td>\n",
       "      <td>26.56</td>\n",
       "      <td>26.41</td>\n",
       "      <td>26.54</td>\n",
       "      <td>201300</td>\n",
       "      <td>0.07</td>\n",
       "      <td>1</td>\n",
       "      <td>0.15</td>\n",
       "    </tr>\n",
       "    <tr>\n",
       "      <th>1993-02-03</th>\n",
       "      <td>26.58</td>\n",
       "      <td>26.84</td>\n",
       "      <td>26.56</td>\n",
       "      <td>26.82</td>\n",
       "      <td>529400</td>\n",
       "      <td>0.24</td>\n",
       "      <td>1</td>\n",
       "      <td>0.28</td>\n",
       "    </tr>\n",
       "    <tr>\n",
       "      <th>1993-02-04</th>\n",
       "      <td>26.92</td>\n",
       "      <td>26.99</td>\n",
       "      <td>26.62</td>\n",
       "      <td>26.94</td>\n",
       "      <td>531500</td>\n",
       "      <td>0.02</td>\n",
       "      <td>1</td>\n",
       "      <td>0.37</td>\n",
       "    </tr>\n",
       "  </tbody>\n",
       "</table>\n",
       "</div>"
      ],
      "text/plain": [
       "             Open   High    Low  Close   Volume  day_change  close_label  \\\n",
       "Date                                                                       \n",
       "1993-01-29  26.32  26.32  26.19  26.30  1003200       -0.02            0   \n",
       "1993-02-01  26.32  26.49  26.32  26.49   480500        0.17            1   \n",
       "1993-02-02  26.47  26.56  26.41  26.54   201300        0.07            1   \n",
       "1993-02-03  26.58  26.84  26.56  26.82   529400        0.24            1   \n",
       "1993-02-04  26.92  26.99  26.62  26.94   531500        0.02            1   \n",
       "\n",
       "            max_magnitude_change  \n",
       "Date                              \n",
       "1993-01-29                  0.13  \n",
       "1993-02-01                  0.17  \n",
       "1993-02-02                  0.15  \n",
       "1993-02-03                  0.28  \n",
       "1993-02-04                  0.37  "
      ]
     },
     "execution_count": 15,
     "metadata": {},
     "output_type": "execute_result"
    }
   ],
   "source": [
    "sp_df['max_magnitude_change'] = np.abs(sp_df.High - sp_df.Low) # we don't know which came first\n",
    "sp_df.head()"
   ]
  },
  {
   "cell_type": "code",
   "execution_count": 16,
   "metadata": {},
   "outputs": [
    {
     "data": {
      "text/html": [
       "<div>\n",
       "<style scoped>\n",
       "    .dataframe tbody tr th:only-of-type {\n",
       "        vertical-align: middle;\n",
       "    }\n",
       "\n",
       "    .dataframe tbody tr th {\n",
       "        vertical-align: top;\n",
       "    }\n",
       "\n",
       "    .dataframe thead th {\n",
       "        text-align: right;\n",
       "    }\n",
       "</style>\n",
       "<table border=\"1\" class=\"dataframe\">\n",
       "  <thead>\n",
       "    <tr style=\"text-align: right;\">\n",
       "      <th></th>\n",
       "      <th>Open</th>\n",
       "      <th>High</th>\n",
       "      <th>Low</th>\n",
       "      <th>Close</th>\n",
       "      <th>Volume</th>\n",
       "      <th>day_change</th>\n",
       "      <th>close_label</th>\n",
       "      <th>max_magnitude_change</th>\n",
       "      <th>largest_day_gain</th>\n",
       "      <th>largest_day_loss</th>\n",
       "    </tr>\n",
       "    <tr>\n",
       "      <th>Date</th>\n",
       "      <th></th>\n",
       "      <th></th>\n",
       "      <th></th>\n",
       "      <th></th>\n",
       "      <th></th>\n",
       "      <th></th>\n",
       "      <th></th>\n",
       "      <th></th>\n",
       "      <th></th>\n",
       "      <th></th>\n",
       "    </tr>\n",
       "  </thead>\n",
       "  <tbody>\n",
       "    <tr>\n",
       "      <th>1993-01-29</th>\n",
       "      <td>26.32</td>\n",
       "      <td>26.32</td>\n",
       "      <td>26.19</td>\n",
       "      <td>26.30</td>\n",
       "      <td>1003200</td>\n",
       "      <td>-0.02</td>\n",
       "      <td>0</td>\n",
       "      <td>0.13</td>\n",
       "      <td>0.11</td>\n",
       "      <td>-0.13</td>\n",
       "    </tr>\n",
       "    <tr>\n",
       "      <th>1993-02-01</th>\n",
       "      <td>26.32</td>\n",
       "      <td>26.49</td>\n",
       "      <td>26.32</td>\n",
       "      <td>26.49</td>\n",
       "      <td>480500</td>\n",
       "      <td>0.17</td>\n",
       "      <td>1</td>\n",
       "      <td>0.17</td>\n",
       "      <td>0.17</td>\n",
       "      <td>0.00</td>\n",
       "    </tr>\n",
       "    <tr>\n",
       "      <th>1993-02-02</th>\n",
       "      <td>26.47</td>\n",
       "      <td>26.56</td>\n",
       "      <td>26.41</td>\n",
       "      <td>26.54</td>\n",
       "      <td>201300</td>\n",
       "      <td>0.07</td>\n",
       "      <td>1</td>\n",
       "      <td>0.15</td>\n",
       "      <td>0.13</td>\n",
       "      <td>-0.06</td>\n",
       "    </tr>\n",
       "    <tr>\n",
       "      <th>1993-02-03</th>\n",
       "      <td>26.58</td>\n",
       "      <td>26.84</td>\n",
       "      <td>26.56</td>\n",
       "      <td>26.82</td>\n",
       "      <td>529400</td>\n",
       "      <td>0.24</td>\n",
       "      <td>1</td>\n",
       "      <td>0.28</td>\n",
       "      <td>0.26</td>\n",
       "      <td>-0.02</td>\n",
       "    </tr>\n",
       "    <tr>\n",
       "      <th>1993-02-04</th>\n",
       "      <td>26.92</td>\n",
       "      <td>26.99</td>\n",
       "      <td>26.62</td>\n",
       "      <td>26.94</td>\n",
       "      <td>531500</td>\n",
       "      <td>0.02</td>\n",
       "      <td>1</td>\n",
       "      <td>0.37</td>\n",
       "      <td>0.32</td>\n",
       "      <td>-0.30</td>\n",
       "    </tr>\n",
       "  </tbody>\n",
       "</table>\n",
       "</div>"
      ],
      "text/plain": [
       "             Open   High    Low  Close   Volume  day_change  close_label  \\\n",
       "Date                                                                       \n",
       "1993-01-29  26.32  26.32  26.19  26.30  1003200       -0.02            0   \n",
       "1993-02-01  26.32  26.49  26.32  26.49   480500        0.17            1   \n",
       "1993-02-02  26.47  26.56  26.41  26.54   201300        0.07            1   \n",
       "1993-02-03  26.58  26.84  26.56  26.82   529400        0.24            1   \n",
       "1993-02-04  26.92  26.99  26.62  26.94   531500        0.02            1   \n",
       "\n",
       "            max_magnitude_change  largest_day_gain  largest_day_loss  \n",
       "Date                                                                  \n",
       "1993-01-29                  0.13              0.11             -0.13  \n",
       "1993-02-01                  0.17              0.17              0.00  \n",
       "1993-02-02                  0.15              0.13             -0.06  \n",
       "1993-02-03                  0.28              0.26             -0.02  \n",
       "1993-02-04                  0.37              0.32             -0.30  "
      ]
     },
     "execution_count": 16,
     "metadata": {},
     "output_type": "execute_result"
    }
   ],
   "source": [
    "# the high or low will always come after the Open, the earliest they can come is at Open\n",
    "sp_df['largest_day_gain'] = np.max([sp_df.High - sp_df.Open, sp_df.Close - sp_df.Low], axis=0)\n",
    "sp_df['largest_day_loss'] = np.min([sp_df.Low - sp_df.Open, sp_df.Close - sp_df.High], axis=0)\n",
    "sp_df.head()"
   ]
  },
  {
   "cell_type": "code",
   "execution_count": 17,
   "metadata": {},
   "outputs": [
    {
     "data": {
      "text/html": [
       "<div>\n",
       "<style scoped>\n",
       "    .dataframe tbody tr th:only-of-type {\n",
       "        vertical-align: middle;\n",
       "    }\n",
       "\n",
       "    .dataframe tbody tr th {\n",
       "        vertical-align: top;\n",
       "    }\n",
       "\n",
       "    .dataframe thead th {\n",
       "        text-align: right;\n",
       "    }\n",
       "</style>\n",
       "<table border=\"1\" class=\"dataframe\">\n",
       "  <thead>\n",
       "    <tr style=\"text-align: right;\">\n",
       "      <th></th>\n",
       "      <th>Open</th>\n",
       "      <th>High</th>\n",
       "      <th>Low</th>\n",
       "      <th>Close</th>\n",
       "      <th>Volume</th>\n",
       "      <th>day_change</th>\n",
       "      <th>close_label</th>\n",
       "      <th>max_magnitude_change</th>\n",
       "      <th>largest_day_gain</th>\n",
       "      <th>largest_day_loss</th>\n",
       "    </tr>\n",
       "    <tr>\n",
       "      <th>Date</th>\n",
       "      <th></th>\n",
       "      <th></th>\n",
       "      <th></th>\n",
       "      <th></th>\n",
       "      <th></th>\n",
       "      <th></th>\n",
       "      <th></th>\n",
       "      <th></th>\n",
       "      <th></th>\n",
       "      <th></th>\n",
       "    </tr>\n",
       "  </thead>\n",
       "  <tbody>\n",
       "    <tr>\n",
       "      <th>2020-03-26</th>\n",
       "      <td>249.52</td>\n",
       "      <td>262.80</td>\n",
       "      <td>249.05</td>\n",
       "      <td>261.20</td>\n",
       "      <td>257632800</td>\n",
       "      <td>11.68</td>\n",
       "      <td>1</td>\n",
       "      <td>13.75</td>\n",
       "      <td>13.28</td>\n",
       "      <td>-1.60</td>\n",
       "    </tr>\n",
       "    <tr>\n",
       "      <th>2020-03-27</th>\n",
       "      <td>253.27</td>\n",
       "      <td>260.81</td>\n",
       "      <td>251.05</td>\n",
       "      <td>253.42</td>\n",
       "      <td>224341200</td>\n",
       "      <td>0.15</td>\n",
       "      <td>1</td>\n",
       "      <td>9.76</td>\n",
       "      <td>7.54</td>\n",
       "      <td>-7.39</td>\n",
       "    </tr>\n",
       "    <tr>\n",
       "      <th>2020-03-30</th>\n",
       "      <td>255.70</td>\n",
       "      <td>262.43</td>\n",
       "      <td>253.53</td>\n",
       "      <td>261.65</td>\n",
       "      <td>171369500</td>\n",
       "      <td>5.95</td>\n",
       "      <td>1</td>\n",
       "      <td>8.90</td>\n",
       "      <td>8.12</td>\n",
       "      <td>-2.17</td>\n",
       "    </tr>\n",
       "    <tr>\n",
       "      <th>2020-03-31</th>\n",
       "      <td>260.56</td>\n",
       "      <td>263.33</td>\n",
       "      <td>256.22</td>\n",
       "      <td>257.75</td>\n",
       "      <td>194881100</td>\n",
       "      <td>-2.81</td>\n",
       "      <td>0</td>\n",
       "      <td>7.11</td>\n",
       "      <td>2.77</td>\n",
       "      <td>-5.58</td>\n",
       "    </tr>\n",
       "    <tr>\n",
       "      <th>2020-04-01</th>\n",
       "      <td>247.98</td>\n",
       "      <td>257.66</td>\n",
       "      <td>243.90</td>\n",
       "      <td>246.15</td>\n",
       "      <td>188601200</td>\n",
       "      <td>-1.83</td>\n",
       "      <td>0</td>\n",
       "      <td>13.76</td>\n",
       "      <td>9.68</td>\n",
       "      <td>-11.51</td>\n",
       "    </tr>\n",
       "  </tbody>\n",
       "</table>\n",
       "</div>"
      ],
      "text/plain": [
       "              Open    High     Low   Close     Volume  day_change  \\\n",
       "Date                                                                \n",
       "2020-03-26  249.52  262.80  249.05  261.20  257632800       11.68   \n",
       "2020-03-27  253.27  260.81  251.05  253.42  224341200        0.15   \n",
       "2020-03-30  255.70  262.43  253.53  261.65  171369500        5.95   \n",
       "2020-03-31  260.56  263.33  256.22  257.75  194881100       -2.81   \n",
       "2020-04-01  247.98  257.66  243.90  246.15  188601200       -1.83   \n",
       "\n",
       "            close_label  max_magnitude_change  largest_day_gain  \\\n",
       "Date                                                              \n",
       "2020-03-26            1                 13.75             13.28   \n",
       "2020-03-27            1                  9.76              7.54   \n",
       "2020-03-30            1                  8.90              8.12   \n",
       "2020-03-31            0                  7.11              2.77   \n",
       "2020-04-01            0                 13.76              9.68   \n",
       "\n",
       "            largest_day_loss  \n",
       "Date                          \n",
       "2020-03-26             -1.60  \n",
       "2020-03-27             -7.39  \n",
       "2020-03-30             -2.17  \n",
       "2020-03-31             -5.58  \n",
       "2020-04-01            -11.51  "
      ]
     },
     "execution_count": 17,
     "metadata": {},
     "output_type": "execute_result"
    }
   ],
   "source": [
    "sp_df.tail()"
   ]
  },
  {
   "cell_type": "code",
   "execution_count": 34,
   "metadata": {},
   "outputs": [
    {
     "data": {
      "text/html": [
       "<div>\n",
       "<style scoped>\n",
       "    .dataframe tbody tr th:only-of-type {\n",
       "        vertical-align: middle;\n",
       "    }\n",
       "\n",
       "    .dataframe tbody tr th {\n",
       "        vertical-align: top;\n",
       "    }\n",
       "\n",
       "    .dataframe thead th {\n",
       "        text-align: right;\n",
       "    }\n",
       "</style>\n",
       "<table border=\"1\" class=\"dataframe\">\n",
       "  <thead>\n",
       "    <tr style=\"text-align: right;\">\n",
       "      <th></th>\n",
       "      <th>Open</th>\n",
       "      <th>High</th>\n",
       "      <th>Low</th>\n",
       "      <th>Close</th>\n",
       "      <th>Volume</th>\n",
       "      <th>day_change</th>\n",
       "      <th>close_label</th>\n",
       "      <th>max_magnitude_change</th>\n",
       "      <th>largest_day_gain</th>\n",
       "      <th>largest_day_loss</th>\n",
       "      <th>day_sd</th>\n",
       "      <th>day_mean</th>\n",
       "      <th>cv</th>\n",
       "      <th>day_median</th>\n",
       "    </tr>\n",
       "    <tr>\n",
       "      <th>Date</th>\n",
       "      <th></th>\n",
       "      <th></th>\n",
       "      <th></th>\n",
       "      <th></th>\n",
       "      <th></th>\n",
       "      <th></th>\n",
       "      <th></th>\n",
       "      <th></th>\n",
       "      <th></th>\n",
       "      <th></th>\n",
       "      <th></th>\n",
       "      <th></th>\n",
       "      <th></th>\n",
       "      <th></th>\n",
       "    </tr>\n",
       "  </thead>\n",
       "  <tbody>\n",
       "    <tr>\n",
       "      <th>2020-03-26</th>\n",
       "      <td>249.52</td>\n",
       "      <td>262.80</td>\n",
       "      <td>249.05</td>\n",
       "      <td>261.20</td>\n",
       "      <td>257632800</td>\n",
       "      <td>11.68</td>\n",
       "      <td>1</td>\n",
       "      <td>13.75</td>\n",
       "      <td>13.28</td>\n",
       "      <td>-1.60</td>\n",
       "      <td>6.384780</td>\n",
       "      <td>255.6425</td>\n",
       "      <td>40.039358</td>\n",
       "      <td>255.925</td>\n",
       "    </tr>\n",
       "    <tr>\n",
       "      <th>2020-03-27</th>\n",
       "      <td>253.27</td>\n",
       "      <td>260.81</td>\n",
       "      <td>251.05</td>\n",
       "      <td>253.42</td>\n",
       "      <td>224341200</td>\n",
       "      <td>0.15</td>\n",
       "      <td>1</td>\n",
       "      <td>9.76</td>\n",
       "      <td>7.54</td>\n",
       "      <td>-7.39</td>\n",
       "      <td>3.685182</td>\n",
       "      <td>254.6375</td>\n",
       "      <td>69.097667</td>\n",
       "      <td>255.930</td>\n",
       "    </tr>\n",
       "    <tr>\n",
       "      <th>2020-03-30</th>\n",
       "      <td>255.70</td>\n",
       "      <td>262.43</td>\n",
       "      <td>253.53</td>\n",
       "      <td>261.65</td>\n",
       "      <td>171369500</td>\n",
       "      <td>5.95</td>\n",
       "      <td>1</td>\n",
       "      <td>8.90</td>\n",
       "      <td>8.12</td>\n",
       "      <td>-2.17</td>\n",
       "      <td>3.800963</td>\n",
       "      <td>258.3275</td>\n",
       "      <td>67.963700</td>\n",
       "      <td>257.980</td>\n",
       "    </tr>\n",
       "    <tr>\n",
       "      <th>2020-03-31</th>\n",
       "      <td>260.56</td>\n",
       "      <td>263.33</td>\n",
       "      <td>256.22</td>\n",
       "      <td>257.75</td>\n",
       "      <td>194881100</td>\n",
       "      <td>-2.81</td>\n",
       "      <td>0</td>\n",
       "      <td>7.11</td>\n",
       "      <td>2.77</td>\n",
       "      <td>-5.58</td>\n",
       "      <td>2.720685</td>\n",
       "      <td>259.4650</td>\n",
       "      <td>95.367539</td>\n",
       "      <td>259.775</td>\n",
       "    </tr>\n",
       "    <tr>\n",
       "      <th>2020-04-01</th>\n",
       "      <td>247.98</td>\n",
       "      <td>257.66</td>\n",
       "      <td>243.90</td>\n",
       "      <td>246.15</td>\n",
       "      <td>188601200</td>\n",
       "      <td>-1.83</td>\n",
       "      <td>0</td>\n",
       "      <td>13.76</td>\n",
       "      <td>9.68</td>\n",
       "      <td>-11.51</td>\n",
       "      <td>5.247487</td>\n",
       "      <td>248.9225</td>\n",
       "      <td>47.436517</td>\n",
       "      <td>250.780</td>\n",
       "    </tr>\n",
       "  </tbody>\n",
       "</table>\n",
       "</div>"
      ],
      "text/plain": [
       "              Open    High     Low   Close     Volume  day_change  \\\n",
       "Date                                                                \n",
       "2020-03-26  249.52  262.80  249.05  261.20  257632800       11.68   \n",
       "2020-03-27  253.27  260.81  251.05  253.42  224341200        0.15   \n",
       "2020-03-30  255.70  262.43  253.53  261.65  171369500        5.95   \n",
       "2020-03-31  260.56  263.33  256.22  257.75  194881100       -2.81   \n",
       "2020-04-01  247.98  257.66  243.90  246.15  188601200       -1.83   \n",
       "\n",
       "            close_label  max_magnitude_change  largest_day_gain  \\\n",
       "Date                                                              \n",
       "2020-03-26            1                 13.75             13.28   \n",
       "2020-03-27            1                  9.76              7.54   \n",
       "2020-03-30            1                  8.90              8.12   \n",
       "2020-03-31            0                  7.11              2.77   \n",
       "2020-04-01            0                 13.76              9.68   \n",
       "\n",
       "            largest_day_loss    day_sd  day_mean         cv  day_median  \n",
       "Date                                                                     \n",
       "2020-03-26             -1.60  6.384780  255.6425  40.039358     255.925  \n",
       "2020-03-27             -7.39  3.685182  254.6375  69.097667     255.930  \n",
       "2020-03-30             -2.17  3.800963  258.3275  67.963700     257.980  \n",
       "2020-03-31             -5.58  2.720685  259.4650  95.367539     259.775  \n",
       "2020-04-01            -11.51  5.247487  248.9225  47.436517     250.780  "
      ]
     },
     "execution_count": 34,
     "metadata": {},
     "output_type": "execute_result"
    }
   ],
   "source": [
    "sp_df['day_sd'] = np.std([sp_df.Open, sp_df.High, sp_df.Low, sp_df.Close], axis=0)\n",
    "sp_df['day_mean'] = np.mean([sp_df.Open, sp_df.High, sp_df.Low, sp_df.Close], axis=0)\n",
    "sp_df['day_median'] = np.median([sp_df.Low, sp_df.High], axis=0)\n",
    "sp_df.tail()"
   ]
  },
  {
   "cell_type": "code",
   "execution_count": 19,
   "metadata": {},
   "outputs": [
    {
     "data": {
      "image/png": "[encoded data removed]",
      "text/plain": [
       "<Figure size 432x288 with 1 Axes>"
      ]
     },
     "metadata": {
      "needs_background": "light"
     },
     "output_type": "display_data"
    }
   ],
   "source": [
    "sp_df.day_mean.plot()\n",
    "plt.show()"
   ]
  },
  {
   "cell_type": "code",
   "execution_count": 20,
   "metadata": {},
   "outputs": [
    {
     "data": {
      "image/png": "[encoded data removed]",
      "text/plain": [
       "<Figure size 720x360 with 1 Axes>"
      ]
     },
     "metadata": {
      "needs_background": "light"
     },
     "output_type": "display_data"
    }
   ],
   "source": [
    "fig,ax = plt.subplots(figsize=(10,5))\n",
    "sp_df.day_sd.plot()\n",
    "plt.show()"
   ]
  },
  {
   "cell_type": "code",
   "execution_count": 21,
   "metadata": {},
   "outputs": [
    {
     "data": {
      "image/png": "[encoded data removed]",
      "text/plain": [
       "<Figure size 432x288 with 1 Axes>"
      ]
     },
     "metadata": {
      "needs_background": "light"
     },
     "output_type": "display_data"
    }
   ],
   "source": [
    "sp_df['cv'] = sp_df.day_mean/sp_df.day_sd\n",
    "sp_df.cv.plot()\n",
    "plt.show()"
   ]
  },
  {
   "cell_type": "markdown",
   "metadata": {},
   "source": [
    "# Explore relationships between our features:"
   ]
  },
  {
   "cell_type": "markdown",
   "metadata": {},
   "source": [
    "### Relationship between largest intraday gain and close label (Green 1, or Red 0)"
   ]
  },
  {
   "cell_type": "code",
   "execution_count": 22,
   "metadata": {},
   "outputs": [
    {
     "data": {
      "image/png": "[encoded data removed]",
      "text/plain": [
       "<Figure size 432x288 with 1 Axes>"
      ]
     },
     "metadata": {
      "needs_background": "light"
     },
     "output_type": "display_data"
    }
   ],
   "source": [
    "import seaborn as sns\n",
    "sns.regplot(x='largest_day_gain', y='close_label', data=sp_df)\n",
    "plt.show()"
   ]
  },
  {
   "cell_type": "code",
   "execution_count": 23,
   "metadata": {},
   "outputs": [
    {
     "data": {
      "image/png": "[encoded data removed]",
      "text/plain": [
       "<Figure size 432x288 with 1 Axes>"
      ]
     },
     "metadata": {
      "needs_background": "light"
     },
     "output_type": "display_data"
    }
   ],
   "source": [
    "sns.regplot(x='largest_day_gain', y='day_change', data=sp_df)\n",
    "plt.show()"
   ]
  },
  {
   "cell_type": "markdown",
   "metadata": {},
   "source": [
    "### Relationship between largest intraday loss and close label and daily change"
   ]
  },
  {
   "cell_type": "code",
   "execution_count": 24,
   "metadata": {},
   "outputs": [
    {
     "data": {
      "image/png": "[encoded data removed]",
      "text/plain": [
       "<Figure size 432x288 with 1 Axes>"
      ]
     },
     "metadata": {
      "needs_background": "light"
     },
     "output_type": "display_data"
    }
   ],
   "source": [
    "sns.regplot(x='largest_day_loss', y='close_label', data=sp_df)\n",
    "plt.show()"
   ]
  },
  {
   "cell_type": "code",
   "execution_count": 25,
   "metadata": {
    "scrolled": true
   },
   "outputs": [
    {
     "data": {
      "image/png": "[encoded data removed]",
      "text/plain": [
       "<Figure size 432x288 with 1 Axes>"
      ]
     },
     "metadata": {
      "needs_background": "light"
     },
     "output_type": "display_data"
    }
   ],
   "source": [
    "sns.regplot(x='largest_day_loss', y='day_change', data=sp_df)\n",
    "plt.show()"
   ]
  },
  {
   "cell_type": "code",
   "execution_count": null,
   "metadata": {},
   "outputs": [],
   "source": []
  },
  {
   "cell_type": "code",
   "execution_count": 26,
   "metadata": {},
   "outputs": [
    {
     "data": {
      "image/png": "[encoded data removed]",
      "text/plain": [
       "<Figure size 432x288 with 1 Axes>"
      ]
     },
     "metadata": {
      "needs_background": "light"
     },
     "output_type": "display_data"
    }
   ],
   "source": [
    "sns.regplot(x='max_magnitude_change', y='close_label', data=sp_df)\n",
    "plt.show()"
   ]
  },
  {
   "cell_type": "code",
   "execution_count": 27,
   "metadata": {},
   "outputs": [
    {
     "data": {
      "image/png": "[encoded data removed]",
      "text/plain": [
       "<Figure size 432x288 with 1 Axes>"
      ]
     },
     "metadata": {
      "needs_background": "light"
     },
     "output_type": "display_data"
    }
   ],
   "source": [
    "sns.regplot(x='day_change', y='close_label', data=sp_df)\n",
    "plt.show()"
   ]
  },
  {
   "cell_type": "code",
   "execution_count": 35,
   "metadata": {},
   "outputs": [
    {
     "data": {
      "image/png": "[encoded data removed]",
      "text/plain": [
       "<Figure size 432x288 with 1 Axes>"
      ]
     },
     "metadata": {
      "needs_background": "light"
     },
     "output_type": "display_data"
    }
   ],
   "source": [
    "sns.regplot(x='day_median', y='close_label', data=sp_df)\n",
    "plt.show()"
   ]
  },
  {
   "cell_type": "code",
   "execution_count": 36,
   "metadata": {},
   "outputs": [
    {
     "data": {
      "image/png": "[encoded data removed]",
      "text/plain": [
       "<Figure size 432x288 with 1 Axes>"
      ]
     },
     "metadata": {
      "needs_background": "light"
     },
     "output_type": "display_data"
    }
   ],
   "source": [
    "sns.regplot(x='day_mean', y='close_label', data=sp_df)\n",
    "plt.show()"
   ]
  },
  {
   "cell_type": "code",
   "execution_count": 37,
   "metadata": {},
   "outputs": [
    {
     "data": {
      "image/png": "[encoded data removed]",
      "text/plain": [
       "<Figure size 432x288 with 1 Axes>"
      ]
     },
     "metadata": {
      "needs_background": "light"
     },
     "output_type": "display_data"
    }
   ],
   "source": [
    "sns.regplot(x='day_sd', y='close_label', data=sp_df)\n",
    "plt.show()"
   ]
  },
  {
   "cell_type": "code",
   "execution_count": 38,
   "metadata": {},
   "outputs": [
    {
     "data": {
      "image/png": "[encoded data removed]",
      "text/plain": [
       "<Figure size 432x288 with 1 Axes>"
      ]
     },
     "metadata": {
      "needs_background": "light"
     },
     "output_type": "display_data"
    }
   ],
   "source": [
    "sns.regplot(x='Close', y='close_label', data=sp_df)\n",
    "plt.show()"
   ]
  },
  {
   "cell_type": "code",
   "execution_count": 39,
   "metadata": {},
   "outputs": [
    {
     "data": {
      "image/png": "[encoded data removed]",
      "text/plain": [
       "<Figure size 432x288 with 1 Axes>"
      ]
     },
     "metadata": {
      "needs_background": "light"
     },
     "output_type": "display_data"
    }
   ],
   "source": [
    "sns.regplot(x='Low', y='close_label', data=sp_df)\n",
    "plt.show()"
   ]
  },
  {
   "cell_type": "code",
   "execution_count": 40,
   "metadata": {},
   "outputs": [
    {
     "data": {
      "image/png": "[encoded data removed]",
      "text/plain": [
       "<Figure size 432x288 with 1 Axes>"
      ]
     },
     "metadata": {
      "needs_background": "light"
     },
     "output_type": "display_data"
    }
   ],
   "source": [
    "sns.regplot(x='High', y='close_label', data=sp_df)\n",
    "plt.show()"
   ]
  },
  {
   "cell_type": "code",
   "execution_count": 55,
   "metadata": {},
   "outputs": [
    {
     "data": {
      "image/png": "[encoded data removed]",
      "text/plain": [
       "<Figure size 432x288 with 1 Axes>"
      ]
     },
     "metadata": {
      "needs_background": "light"
     },
     "output_type": "display_data"
    }
   ],
   "source": [
    "sns.regplot(x='cv', y='close_label', data=sp_df)\n",
    "plt.show()"
   ]
  },
  {
   "cell_type": "markdown",
   "metadata": {},
   "source": [
    "# Examine distributions of our features:"
   ]
  },
  {
   "cell_type": "code",
   "execution_count": 28,
   "metadata": {},
   "outputs": [
    {
     "data": {
      "image/png": "[encoded data removed]",
      "text/plain": [
       "<Figure size 432x288 with 1 Axes>"
      ]
     },
     "metadata": {
      "needs_background": "light"
     },
     "output_type": "display_data"
    }
   ],
   "source": [
    "sp_df.day_change.hist(bins=100)\n",
    "plt.show()"
   ]
  },
  {
   "cell_type": "code",
   "execution_count": 29,
   "metadata": {},
   "outputs": [
    {
     "data": {
      "image/png": "[encoded data removed]",
      "text/plain": [
       "<Figure size 432x288 with 1 Axes>"
      ]
     },
     "metadata": {
      "needs_background": "light"
     },
     "output_type": "display_data"
    }
   ],
   "source": [
    "sp_df.largest_day_gain.hist(bins=100)\n",
    "plt.show()"
   ]
  },
  {
   "cell_type": "code",
   "execution_count": 30,
   "metadata": {},
   "outputs": [
    {
     "data": {
      "image/png": "[encoded data removed]",
      "text/plain": [
       "<Figure size 432x288 with 1 Axes>"
      ]
     },
     "metadata": {
      "needs_background": "light"
     },
     "output_type": "display_data"
    }
   ],
   "source": [
    "sp_df.largest_day_loss.hist(bins=100)\n",
    "plt.show()"
   ]
  },
  {
   "cell_type": "code",
   "execution_count": 31,
   "metadata": {},
   "outputs": [
    {
     "data": {
      "image/png": "[encoded data removed]",
      "text/plain": [
       "<Figure size 432x288 with 1 Axes>"
      ]
     },
     "metadata": {
      "needs_background": "light"
     },
     "output_type": "display_data"
    }
   ],
   "source": [
    "sp_df.max_magnitude_change.hist(bins=100)\n",
    "plt.show()"
   ]
  },
  {
   "cell_type": "code",
   "execution_count": null,
   "metadata": {},
   "outputs": [],
   "source": []
  },
  {
   "cell_type": "markdown",
   "metadata": {},
   "source": [
    "# I'd really like intraday data to make better features:\n",
    "    -percent time spent above open ; below close\n",
    "    -num times cross open\n",
    "    -etc"
   ]
  },
  {
   "cell_type": "code",
   "execution_count": 44,
   "metadata": {},
   "outputs": [
    {
     "data": {
      "text/html": [
       "<div>\n",
       "<style scoped>\n",
       "    .dataframe tbody tr th:only-of-type {\n",
       "        vertical-align: middle;\n",
       "    }\n",
       "\n",
       "    .dataframe tbody tr th {\n",
       "        vertical-align: top;\n",
       "    }\n",
       "\n",
       "    .dataframe thead th {\n",
       "        text-align: right;\n",
       "    }\n",
       "</style>\n",
       "<table border=\"1\" class=\"dataframe\">\n",
       "  <thead>\n",
       "    <tr style=\"text-align: right;\">\n",
       "      <th></th>\n",
       "      <th>Open</th>\n",
       "      <th>High</th>\n",
       "      <th>Low</th>\n",
       "      <th>Close</th>\n",
       "      <th>Volume</th>\n",
       "      <th>day_change</th>\n",
       "      <th>close_label</th>\n",
       "      <th>max_magnitude_change</th>\n",
       "      <th>largest_day_gain</th>\n",
       "      <th>largest_day_loss</th>\n",
       "      <th>day_sd</th>\n",
       "      <th>day_mean</th>\n",
       "      <th>cv</th>\n",
       "      <th>day_median</th>\n",
       "    </tr>\n",
       "    <tr>\n",
       "      <th>Date</th>\n",
       "      <th></th>\n",
       "      <th></th>\n",
       "      <th></th>\n",
       "      <th></th>\n",
       "      <th></th>\n",
       "      <th></th>\n",
       "      <th></th>\n",
       "      <th></th>\n",
       "      <th></th>\n",
       "      <th></th>\n",
       "      <th></th>\n",
       "      <th></th>\n",
       "      <th></th>\n",
       "      <th></th>\n",
       "    </tr>\n",
       "  </thead>\n",
       "  <tbody>\n",
       "    <tr>\n",
       "      <th>1993-01-29</th>\n",
       "      <td>26.32</td>\n",
       "      <td>26.32</td>\n",
       "      <td>26.19</td>\n",
       "      <td>26.30</td>\n",
       "      <td>1003200</td>\n",
       "      <td>-0.02</td>\n",
       "      <td>0</td>\n",
       "      <td>0.13</td>\n",
       "      <td>0.11</td>\n",
       "      <td>-0.13</td>\n",
       "      <td>0.054025</td>\n",
       "      <td>26.2825</td>\n",
       "      <td>486.483622</td>\n",
       "      <td>26.255</td>\n",
       "    </tr>\n",
       "    <tr>\n",
       "      <th>1993-02-01</th>\n",
       "      <td>26.32</td>\n",
       "      <td>26.49</td>\n",
       "      <td>26.32</td>\n",
       "      <td>26.49</td>\n",
       "      <td>480500</td>\n",
       "      <td>0.17</td>\n",
       "      <td>1</td>\n",
       "      <td>0.17</td>\n",
       "      <td>0.17</td>\n",
       "      <td>0.00</td>\n",
       "      <td>0.085000</td>\n",
       "      <td>26.4050</td>\n",
       "      <td>310.647059</td>\n",
       "      <td>26.405</td>\n",
       "    </tr>\n",
       "    <tr>\n",
       "      <th>1993-02-02</th>\n",
       "      <td>26.47</td>\n",
       "      <td>26.56</td>\n",
       "      <td>26.41</td>\n",
       "      <td>26.54</td>\n",
       "      <td>201300</td>\n",
       "      <td>0.07</td>\n",
       "      <td>1</td>\n",
       "      <td>0.15</td>\n",
       "      <td>0.13</td>\n",
       "      <td>-0.06</td>\n",
       "      <td>0.059372</td>\n",
       "      <td>26.4950</td>\n",
       "      <td>446.256303</td>\n",
       "      <td>26.485</td>\n",
       "    </tr>\n",
       "    <tr>\n",
       "      <th>1993-02-03</th>\n",
       "      <td>26.58</td>\n",
       "      <td>26.84</td>\n",
       "      <td>26.56</td>\n",
       "      <td>26.82</td>\n",
       "      <td>529400</td>\n",
       "      <td>0.24</td>\n",
       "      <td>1</td>\n",
       "      <td>0.28</td>\n",
       "      <td>0.26</td>\n",
       "      <td>-0.02</td>\n",
       "      <td>0.130384</td>\n",
       "      <td>26.7000</td>\n",
       "      <td>204.779652</td>\n",
       "      <td>26.700</td>\n",
       "    </tr>\n",
       "    <tr>\n",
       "      <th>1993-02-04</th>\n",
       "      <td>26.92</td>\n",
       "      <td>26.99</td>\n",
       "      <td>26.62</td>\n",
       "      <td>26.94</td>\n",
       "      <td>531500</td>\n",
       "      <td>0.02</td>\n",
       "      <td>1</td>\n",
       "      <td>0.37</td>\n",
       "      <td>0.32</td>\n",
       "      <td>-0.30</td>\n",
       "      <td>0.145151</td>\n",
       "      <td>26.8675</td>\n",
       "      <td>185.100620</td>\n",
       "      <td>26.805</td>\n",
       "    </tr>\n",
       "  </tbody>\n",
       "</table>\n",
       "</div>"
      ],
      "text/plain": [
       "             Open   High    Low  Close   Volume  day_change  close_label  \\\n",
       "Date                                                                       \n",
       "1993-01-29  26.32  26.32  26.19  26.30  1003200       -0.02            0   \n",
       "1993-02-01  26.32  26.49  26.32  26.49   480500        0.17            1   \n",
       "1993-02-02  26.47  26.56  26.41  26.54   201300        0.07            1   \n",
       "1993-02-03  26.58  26.84  26.56  26.82   529400        0.24            1   \n",
       "1993-02-04  26.92  26.99  26.62  26.94   531500        0.02            1   \n",
       "\n",
       "            max_magnitude_change  largest_day_gain  largest_day_loss  \\\n",
       "Date                                                                   \n",
       "1993-01-29                  0.13              0.11             -0.13   \n",
       "1993-02-01                  0.17              0.17              0.00   \n",
       "1993-02-02                  0.15              0.13             -0.06   \n",
       "1993-02-03                  0.28              0.26             -0.02   \n",
       "1993-02-04                  0.37              0.32             -0.30   \n",
       "\n",
       "              day_sd  day_mean          cv  day_median  \n",
       "Date                                                    \n",
       "1993-01-29  0.054025   26.2825  486.483622      26.255  \n",
       "1993-02-01  0.085000   26.4050  310.647059      26.405  \n",
       "1993-02-02  0.059372   26.4950  446.256303      26.485  \n",
       "1993-02-03  0.130384   26.7000  204.779652      26.700  \n",
       "1993-02-04  0.145151   26.8675  185.100620      26.805  "
      ]
     },
     "execution_count": 44,
     "metadata": {},
     "output_type": "execute_result"
    }
   ],
   "source": [
    "sp_df.head()"
   ]
  },
  {
   "cell_type": "code",
   "execution_count": 53,
   "metadata": {},
   "outputs": [
    {
     "data": {
      "image/png": "[encoded data removed]",
      "text/plain": [
       "<Figure size 432x288 with 1 Axes>"
      ]
     },
     "metadata": {
      "needs_background": "light"
     },
     "output_type": "display_data"
    }
   ],
   "source": [
    "sp_df.rolling(window=100).day_sd.mean().plot()\n",
    "plt.show()"
   ]
  },
  {
   "cell_type": "markdown",
   "metadata": {},
   "source": [
    "# Let's try some modeling:"
   ]
  },
  {
   "cell_type": "code",
   "execution_count": null,
   "metadata": {},
   "outputs": [],
   "source": [
    "# day_sd, max magnitude change, largest day gain/loss, cv had strongest correlations"
   ]
  },
  {
   "cell_type": "code",
   "execution_count": 58,
   "metadata": {},
   "outputs": [],
   "source": [
    "from sklearn.ensemble import RandomForestClassifier\n",
    "from sklearn.model_selection import train_test_split"
   ]
  },
  {
   "cell_type": "code",
   "execution_count": 69,
   "metadata": {},
   "outputs": [
    {
     "data": {
      "text/plain": [
       "array([0, 1, 1, ..., 1, 0, 0], dtype=int64)"
      ]
     },
     "execution_count": 69,
     "metadata": {},
     "output_type": "execute_result"
    }
   ],
   "source": [
    "X = sp_df[['Open', 'High', 'Low', 'Close', 'max_magnitude_change', \n",
    "           'largest_day_gain', 'largest_day_loss', 'day_sd', 'cv']]\n",
    "y = sp_df[['close_label']]\n",
    "y = np.reshape(y.values, (len(X),))\n",
    "y"
   ]
  },
  {
   "cell_type": "code",
   "execution_count": 70,
   "metadata": {},
   "outputs": [],
   "source": [
    "X_train, X_test, y_train, y_test = train_test_split(X, y, test_size=0.33, random_state=42)"
   ]
  },
  {
   "cell_type": "code",
   "execution_count": 67,
   "metadata": {},
   "outputs": [],
   "source": [
    "rf_clf = RandomForestClassifier()"
   ]
  },
  {
   "cell_type": "code",
   "execution_count": 71,
   "metadata": {},
   "outputs": [
    {
     "data": {
      "text/plain": [
       "RandomForestClassifier(bootstrap=True, class_weight=None, criterion='gini',\n",
       "            max_depth=None, max_features='auto', max_leaf_nodes=None,\n",
       "            min_impurity_decrease=0.0, min_impurity_split=None,\n",
       "            min_samples_leaf=1, min_samples_split=2,\n",
       "            min_weight_fraction_leaf=0.0, n_estimators=10, n_jobs=None,\n",
       "            oob_score=False, random_state=None, verbose=0,\n",
       "            warm_start=False)"
      ]
     },
     "execution_count": 71,
     "metadata": {},
     "output_type": "execute_result"
    }
   ],
   "source": [
    "rf_clf.fit(X_train, y_train)"
   ]
  },
  {
   "cell_type": "code",
   "execution_count": 72,
   "metadata": {},
   "outputs": [
    {
     "data": {
      "text/plain": [
       "array([0.01298183, 0.01287117, 0.01209038, 0.02465815, 0.03993074,\n",
       "       0.38274006, 0.42706955, 0.06572304, 0.02193508])"
      ]
     },
     "execution_count": 72,
     "metadata": {},
     "output_type": "execute_result"
    }
   ],
   "source": [
    "rf_clf.feature_importances_"
   ]
  },
  {
   "cell_type": "markdown",
   "metadata": {},
   "source": [
    "## The largest day_loss, followed by the largest_day_gain were the most import features. Followed by day_sd. The other features had almost no predictive power :("
   ]
  },
  {
   "cell_type": "code",
   "execution_count": 76,
   "metadata": {},
   "outputs": [
    {
     "data": {
      "text/plain": [
       "array([1, 1, 1, ..., 0, 1, 0], dtype=int64)"
      ]
     },
     "execution_count": 76,
     "metadata": {},
     "output_type": "execute_result"
    }
   ],
   "source": [
    "preds = rf_clf.predict(X_test)\n",
    "preds"
   ]
  },
  {
   "cell_type": "code",
   "execution_count": 75,
   "metadata": {},
   "outputs": [
    {
     "data": {
      "text/plain": [
       "array([1, 1, 1, ..., 0, 1, 0], dtype=int64)"
      ]
     },
     "execution_count": 75,
     "metadata": {},
     "output_type": "execute_result"
    }
   ],
   "source": [
    "y_test"
   ]
  },
  {
   "cell_type": "code",
   "execution_count": 77,
   "metadata": {},
   "outputs": [
    {
     "data": {
      "text/plain": [
       "False"
      ]
     },
     "execution_count": 77,
     "metadata": {},
     "output_type": "execute_result"
    }
   ],
   "source": [
    "np.allclose(preds, y_test)"
   ]
  },
  {
   "cell_type": "code",
   "execution_count": 78,
   "metadata": {},
   "outputs": [],
   "source": [
    "from sklearn.metrics import confusion_matrix"
   ]
  },
  {
   "cell_type": "code",
   "execution_count": 79,
   "metadata": {},
   "outputs": [
    {
     "data": {
      "text/plain": [
       "(1088, 18, 54, 1099)"
      ]
     },
     "execution_count": 79,
     "metadata": {},
     "output_type": "execute_result"
    }
   ],
   "source": [
    "tn, fp, fn, tp = confusion_matrix(y_test, preds).ravel()\n",
    "(tn, fp, fn, tp)"
   ]
  },
  {
   "cell_type": "code",
   "execution_count": 80,
   "metadata": {},
   "outputs": [],
   "source": [
    "tpr = tp/(tp+fn)\n",
    "fpr = fp/(fp+tn)"
   ]
  },
  {
   "cell_type": "code",
   "execution_count": 81,
   "metadata": {},
   "outputs": [
    {
     "data": {
      "text/plain": [
       "0.9531656548135299"
      ]
     },
     "execution_count": 81,
     "metadata": {},
     "output_type": "execute_result"
    }
   ],
   "source": [
    "tpr"
   ]
  },
  {
   "cell_type": "code",
   "execution_count": 82,
   "metadata": {},
   "outputs": [
    {
     "data": {
      "text/plain": [
       "0.0162748643761302"
      ]
     },
     "execution_count": 82,
     "metadata": {},
     "output_type": "execute_result"
    }
   ],
   "source": [
    "fpr"
   ]
  },
  {
   "cell_type": "markdown",
   "metadata": {},
   "source": [
    "## I think my model is overfitting..."
   ]
  },
  {
   "cell_type": "code",
   "execution_count": null,
   "metadata": {},
   "outputs": [],
   "source": []
  }
 ],
 "metadata": {
  "kernelspec": {
   "display_name": "Python 3",
   "language": "python",
   "name": "python3"
  },
  "language_info": {
   "codemirror_mode": {
    "name": "ipython",
    "version": 3
   },
   "file_extension": ".py",
   "mimetype": "text/x-python",
   "name": "python",
   "nbconvert_exporter": "python",
   "pygments_lexer": "ipython3",
   "version": "3.7.3"
  }
 },
 "nbformat": 4,
 "nbformat_minor": 2
}
